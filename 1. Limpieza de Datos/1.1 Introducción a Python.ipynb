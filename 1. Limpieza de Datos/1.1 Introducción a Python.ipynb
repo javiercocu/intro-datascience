{
 "cells": [
  {
   "cell_type": "markdown",
   "metadata": {},
   "source": [
    "# Introducción a Python"
   ]
  },
  {
   "cell_type": "markdown",
   "metadata": {},
   "source": [
    "## Python\n",
    "Python es un lenguaje de programación de propósito general que con la ayuda de algunas librerías (numpy, pandas, matplotlib, scikitlearn) se convierte en una poderosa herramienta para análisis de datos."
   ]
  },
  {
   "cell_type": "markdown",
   "metadata": {},
   "source": [
    "## Jupyter Notebook\n",
    "\n",
    "Aplicación Web para facilitar ejecución de código por bloques y visualización de resultados.\n",
    "Inicialmente fue diseñada para tener compatibilidad con Python y Markdown\n",
    "\n",
    "Permite ejecutar y visualizar imágenes, LaTeX y JavaScript, videos.\n",
    "\n",
    "Todo los que va ejecutando en las celdas permanece en memoria disponible para ser usado por otra celda.\n",
    "\n",
    "Tiene controles para detener la ejecución o reiniciar el kernel (borrar todos los datos de memoria)\n",
    "\n",
    "Para ejecutar el codigo de una celda se hace con **Shift + Enter**\n",
    "\n",
    "Si se quiere ejecutar una celda y a la vez crear una nueva celda vacía en seguida se presiona **Alt + Enter**"
   ]
  },
  {
   "cell_type": "markdown",
   "metadata": {},
   "source": [
    "## Hello World en python"
   ]
  },
  {
   "cell_type": "code",
   "execution_count": null,
   "metadata": {},
   "outputs": [],
   "source": [
    "print(\"Hello World\")"
   ]
  },
  {
   "cell_type": "markdown",
   "metadata": {},
   "source": [
    "## Tipos de datos básicos - variables\n",
    "Las variables en python no requieren que se definan con tipo de dato"
   ]
  },
  {
   "cell_type": "code",
   "execution_count": null,
   "metadata": {},
   "outputs": [],
   "source": [
    "# definicion de una variable tipo entero\n",
    "n1 = 5\n",
    "\n",
    "# definicion de una variable tipo float\n",
    "n2 = 5.5\n",
    "\n",
    "# definicion de una variable tipo String\n",
    "c1 = \"Cadena de \\t Texto\"  \n",
    "\n",
    "# definicion de una variable tipo String\n",
    "c2 = 'Cadena de \\n Texto'  \n",
    "\n",
    "# definicion de una variable tipo String\n",
    "c3 = \"\"\"Cadena de\n",
    "Texto\"\"\" \n",
    "\n",
    "# definicion de una variable tipo String cruda (raw)\n",
    "c4 = r\"Cadena de \\n Texto cruda (raw)\"\n",
    "\n",
    "# definicion de una variable tipo String unicode\n",
    "c5 = u\"Cadena de Texto äóè unicode\"\n",
    "\n",
    "# definicion de una variable tipo Boolean\n",
    "b1 = True\n",
    "\n",
    "# numero complejo\n",
    "j1 = 2.1 + 7.8j \n",
    "\n",
    "print(\"Variable n1:\", n1, type(n1))\n",
    "print(\"Variable n2:\", n2, type(n2))\n",
    "print(\"Variable c1:\", c1, type(c1))\n",
    "print(\"Variable c2:\", c2, type(c2))\n",
    "print(\"Variable c3:\", c3, type(c3))\n",
    "print(\"Variable c4:\", c4, type(c4))\n",
    "print(\"Variable c5:\", c5, type(c5))\n",
    "print(\"Variable b1:\", b1, type(b1))\n",
    "print(\"Variable j1:\", c5, type(j1))"
   ]
  },
  {
   "cell_type": "markdown",
   "metadata": {},
   "source": [
    "## Operadores Lógicos\n",
    "\n",
    "Retornan una variable Bool"
   ]
  },
  {
   "cell_type": "code",
   "execution_count": null,
   "metadata": {},
   "outputs": [],
   "source": [
    "v = True\n",
    "f = False\n",
    "\n",
    "# operador lógico and\n",
    "a = v and f\n",
    "b = v and v\n",
    "print(\"Resultado v and f:\", a)\n",
    "print(\"Resultado v and v:\", b)\n",
    "\n",
    "# operador lógico or\n",
    "c = v or f\n",
    "d = f or f\n",
    "print(\"Resultado v or f:\", c)\n",
    "print(\"Resultado f or f:\", d)\n",
    "\n",
    "# operador lógico not\n",
    "e = not v\n",
    "g = not f\n",
    "print(\"Resultado not v:\", e)\n",
    "print(\"Resultado not f:\", g)"
   ]
  },
  {
   "cell_type": "markdown",
   "metadata": {},
   "source": [
    "## Operadores Relacionales"
   ]
  },
  {
   "cell_type": "code",
   "execution_count": null,
   "metadata": {},
   "outputs": [],
   "source": [
    "n1 = 45\n",
    "n2 = 56\n",
    "n3 = 56.0\n",
    "\n",
    "# operador relacional ==\n",
    "print(n1, \"==\", n2 ,\":\", n1 == n2)\n",
    "print(n2, \"==\", n3 ,\":\", n2 == n3)\n",
    "\n",
    "# operador relacional ==\n",
    "print(n1, \"==\", n2 ,\":\", n1 == n2)\n",
    "print(n2, \"==\", n3 ,\":\", n2 == n3)\n",
    "\n",
    "# operador relacional <\n",
    "print(n1, \"<\", n2 ,\":\", n1 < n2)\n",
    "print(n2, \"<\", n3 ,\":\", n2 < n3)\n",
    "\n",
    "# operador relacional >\n",
    "print(n1, \">\", n2 ,\":\", n1 > n2)\n",
    "print(n2, \">\", n3 ,\":\", n2 > n3)\n",
    "\n",
    "# operador relacional >=\n",
    "print(n1, \">=\", n2 ,\":\", n1 >= n2)\n",
    "print(n2, \">=\", n3 ,\":\", n2 >= n3)\n",
    "\n",
    "# operador relacional <=\n",
    "print(n1, \"<=\", n2 ,\":\", n1 <= n2)\n",
    "print(n2, \"<=\", n3 ,\":\", n2 <= n3)"
   ]
  },
  {
   "cell_type": "markdown",
   "metadata": {},
   "source": [
    "## Operadores Aritméticos"
   ]
  },
  {
   "cell_type": "code",
   "execution_count": null,
   "metadata": {},
   "outputs": [],
   "source": [
    "#    + Suma\n",
    "r = 3+2 \n",
    "print(\"3+2 =\", r)\n",
    "\n",
    "#    - Resta\n",
    "r = 3-6 \n",
    "print(\"3-6 =\", r)\n",
    "\n",
    "#    * multiplicacion\n",
    "r = 6*8 \n",
    "print(\"6*8 =\", r)\n",
    "\n",
    "#    ** potencia\n",
    "r = 2**8 \n",
    "print(\"2**8 =\", r)\n",
    "\n",
    "#    ** división\n",
    "r = 7/2\n",
    "print(\"7/2 =\", r)\n",
    "\n",
    "#    ** división entera\n",
    "r = 7//2\n",
    "print(\"7//2 =\", r)\n",
    "\n",
    "#    ** modulo\n",
    "r = 7%2\n",
    "print(\"7%2 =\", r)"
   ]
  },
  {
   "cell_type": "markdown",
   "metadata": {},
   "source": [
    "## Operadores de asignación"
   ]
  },
  {
   "cell_type": "code",
   "execution_count": null,
   "metadata": {},
   "outputs": [],
   "source": [
    "# Operador   =   Igual\n",
    "a = 5\n",
    "b = 10\n",
    "c = \"hola\"\n",
    "b = a\n",
    "e = \"d\"\n",
    "print(\"Valor de b:\",b)\n",
    "print(\"Valor de d:\",d)\n",
    "\n",
    "# Operador   +=   Suma a la variable el valor del lado derecho\n",
    "b += 20\n",
    "print(\"Valor de b += 20:\",b)\n",
    "\n",
    "# Operador   -=   Resta a la variable el valor del lado derecho\n",
    "b -= 20\n",
    "print(\"Valor de b -= 20:\",b)\n",
    "\n",
    "# Operador   *=   Multiplica a la variable el valor del lado derecho\n",
    "b *= 20\n",
    "print(\"Valor de b *= 20:\",b)\n",
    "\n",
    "# Operador   **=   Potencia a la variable el valor del lado derecho\n",
    "b **= 2\n",
    "print(\"Valor de b **= 2:\",b)\n",
    "\n",
    "# Operador   /=   Divide a la variable el valor del lado derecho\n",
    "b /= 200\n",
    "print(\"Valor de b /= 200:\",b)\n",
    "\n",
    "# Operador   //=   Divide entero a la variable el valor del lado derecho\n",
    "b //= 7\n",
    "print(\"Valor de b //= 7:\",b)\n"
   ]
  },
  {
   "cell_type": "markdown",
   "metadata": {},
   "source": [
    "### Asignación múltiple\n",
    "En python se permite asignar multiples variables en una misma instrucción"
   ]
  },
  {
   "cell_type": "code",
   "execution_count": null,
   "metadata": {},
   "outputs": [],
   "source": [
    "a, b, c = \"Hola\", 34, 45.08\n",
    "\n",
    "print(\"Valores de a, b, c:\",a, b, c)"
   ]
  },
  {
   "cell_type": "markdown",
   "metadata": {},
   "source": [
    "## Operadores en Cadenas de texto (Strings)"
   ]
  },
  {
   "cell_type": "code",
   "execution_count": null,
   "metadata": {},
   "outputs": [],
   "source": [
    "# Concatenar Strings\n",
    "mensaje1 = 'Hola' + ' ' + 'Mundo'\n",
    "print(mensaje1)\n",
    "\n",
    "# Multiplicar Strings\n",
    "mensaje2 = 'Hola ' * 3\n",
    "print(mensaje2)\n",
    "\n",
    "# Añadir a String\n",
    "mensaje3 = \"Hola\"\n",
    "mensaje3 += \" mundo\"\n",
    "print(mensaje3)"
   ]
  },
  {
   "cell_type": "markdown",
   "metadata": {},
   "source": [
    "## Indentación\n",
    "Los bloques de código de funciones, clases o estructuras de control de flujo no tienen inicio o fin explícitos, ni llaves que marquen dónde empieza o termina su código. El único delimitador son dos puntos (:) y el indentando del propio código. Por defecto se usan 4 espacios para indentar.\n",
    "\n",
    "Desde este punto de vista una estructura de control de flujo tiene la forma:\n",
    "\n",
    "```python\n",
    "estructura_control:\n",
    "    bloque de codigo\n",
    "    codigo\n",
    "    codigo\n",
    "```"
   ]
  },
  {
   "cell_type": "markdown",
   "metadata": {},
   "source": [
    "## Funciones\n",
    "En python las funciones se definen usando la palabra reservada `def` en seguida el nombre de la función y entre paréntesis los argumentos, y por último dos puntos (:)\n",
    "\n",
    "```python\n",
    "def funcion1(arg1,arg2):\n",
    "    codigo funcion\n",
    "    codigo\n",
    "    codigo\n",
    "    return variable\n",
    "```"
   ]
  },
  {
   "cell_type": "code",
   "execution_count": null,
   "metadata": {
    "pycharm": {
     "name": "#%%\n"
    }
   },
   "outputs": [],
   "source": [
    "def suma(a,b):\n",
    "    return a+b\n",
    "\n",
    "c = suma(3,5)\n",
    "\n",
    "print(\"Resultado suma(3,5):\", c)"
   ]
  },
  {
   "cell_type": "markdown",
   "metadata": {},
   "source": [
    "## Funciones predefinidas\n",
    "Funciones que vienen predefinidas por Python"
   ]
  },
  {
   "cell_type": "markdown",
   "metadata": {},
   "source": [
    "### Funciones predefinidas para cadenas de texto"
   ]
  },
  {
   "cell_type": "markdown",
   "metadata": {},
   "source": [
    "#### join()\n",
    "Convierte una lista de cadenas de texto en una unica cadena de texto utilizando un separador"
   ]
  },
  {
   "cell_type": "code",
   "execution_count": null,
   "metadata": {},
   "outputs": [],
   "source": [
    "# lista de letras\n",
    "lista_letras = [\"a\", \"b\", \"c\", \"d\", \"e\", \"f\", \"g\", \"h\", \"i\", \"j\", \"k\", \"l\", \"m\", \n",
    "                \"n\", \"o\", \"p\", \"q\", \"r\", \"s\", \"t\", \"u\", \"v\", \"w\", \"x\", \"y\", \"z\"]\n",
    "\n",
    "# Abecedario como una sola cadena de texto\n",
    "abecedario = \"-\".join(lista_letras)\n",
    "\n",
    "print(\"Abecedario: \", abecedario)"
   ]
  },
  {
   "cell_type": "markdown",
   "metadata": {},
   "source": [
    "#### split()\n",
    "Convierte una cadena de texto con un separador en una lista de cadenas de texto "
   ]
  },
  {
   "cell_type": "code",
   "execution_count": null,
   "metadata": {},
   "outputs": [],
   "source": [
    "# Cadena de texto con separador (espacio)\n",
    "frase = \"Hola buenos dias\"\n",
    "\n",
    "# Lista de cadenas de texto\n",
    "palabras = frase.split()\n",
    "\n",
    "print(\"Lista de palabras: \", palabras)"
   ]
  },
  {
   "attachments": {},
   "cell_type": "markdown",
   "metadata": {},
   "source": [
    "#### replace ()\n",
    "Reemplaza texto de una cadena de texto"
   ]
  },
  {
   "cell_type": "code",
   "execution_count": null,
   "metadata": {},
   "outputs": [],
   "source": [
    "# Cadena de texto para reemplazar palabra\n",
    "str_prog = \"me gusta programar en php\"\n",
    "\n",
    "# Reemplazar palabra php por python\n",
    "str_prog_py = str_prog.replace(\"php\", \"python\")\n",
    "\n",
    "print(str_prog_py)"
   ]
  },
  {
   "attachments": {},
   "cell_type": "markdown",
   "metadata": {},
   "source": [
    "#### upper()\n",
    "Convertir Cadena de texto en mayúsculas"
   ]
  },
  {
   "cell_type": "code",
   "execution_count": null,
   "metadata": {},
   "outputs": [],
   "source": [
    "# Cadena de texto en minusculas\n",
    "lower_str = \"hola mundo!\"\n",
    "\n",
    "# Imprimir en mayúsculas\n",
    "print(lower_str.upper())"
   ]
  },
  {
   "cell_type": "markdown",
   "metadata": {},
   "source": [
    "#### lower()\n",
    "Convertir Cadena de texto en minúsculas"
   ]
  },
  {
   "cell_type": "code",
   "execution_count": null,
   "metadata": {},
   "outputs": [],
   "source": [
    "# Cadena de texto en mayúsculas\n",
    "upper_str = \"BUENOS DIAS!\"\n",
    "\n",
    "# Convertir en minusculas\n",
    "new_lower_str = upper_str.lower()\n",
    "\n",
    "print(\"Cadena de texto en minúsculas: \", new_lower_str)"
   ]
  },
  {
   "attachments": {},
   "cell_type": "markdown",
   "metadata": {},
   "source": [
    "#### range()\n",
    "Crea una secuencia de números."
   ]
  },
  {
   "cell_type": "code",
   "execution_count": null,
   "metadata": {},
   "outputs": [],
   "source": [
    "# Documentacion de ayuda en Python\n",
    "help(range)"
   ]
  },
  {
   "cell_type": "code",
   "execution_count": null,
   "metadata": {},
   "outputs": [],
   "source": [
    "# Documentacion de ayuda en Jupyter Notebook\n",
    "range?"
   ]
  },
  {
   "cell_type": "code",
   "execution_count": null,
   "metadata": {},
   "outputs": [],
   "source": [
    "# secuencia de 0 a 9\n",
    "print(\"secuencia de 0 a 9\", range(10))\n",
    "\n",
    "# secuencia de 0 a 9\n",
    "print(\"secuencia de 0 a 9\", list(range(10)))\n",
    "\n",
    "# secuencia de 11 a 19\n",
    "print(\"secuencia de 11 a 19\", list(range(11, 20)))\n",
    "\n",
    "# numero pares de 10 a 20\n",
    "print(\"numeros impares de 10 a 20\", list(range(10, 21, 2)))\n",
    "\n",
    "# numero impares de 11 a 29\n",
    "print(\"numero impares de 11 a 29\", list(range(11, 20, 2)))\n"
   ]
  },
  {
   "cell_type": "markdown",
   "metadata": {},
   "source": [
    "## Ejercicio 1\n",
    "Crear una funcion que acepte como argumentos altura y ancho de un rectanguo y retorne el valor del area"
   ]
  },
  {
   "cell_type": "code",
   "execution_count": null,
   "metadata": {},
   "outputs": [],
   "source": [
    "# Celda para completar Ejercicio 1\n",
    "\n",
    "\n",
    "\n",
    "\n",
    "\n"
   ]
  },
  {
   "cell_type": "markdown",
   "metadata": {},
   "source": [
    "## Estructuras de datos - Contenedores\n",
    "Adicionalmente a los tipos de variables básicos, Python soporta nativamente estructuras de datos, entre ellos están:\n",
    "* Tuplas\n",
    "* Listas\n",
    "* Diccionarios\n",
    "* Sets"
   ]
  },
  {
   "cell_type": "markdown",
   "metadata": {},
   "source": [
    "### Tuplas\n",
    "Permite almacenar varios datos inmutables de forma ordenada (no se pueden modificar una vez definidos)\n",
    "\n",
    "Se definen con ( )"
   ]
  },
  {
   "cell_type": "code",
   "execution_count": null,
   "metadata": {},
   "outputs": [],
   "source": [
    "tupla1 = (\"Hola\", 134, 23.432)\n",
    "print(\"tupla1:\", tupla1)\n",
    "\n",
    "# Acceso a un elemento de una tupla, se hace a través del índice del elemento\n",
    "print(\"primer elemento tupla1:\", tupla1[0])\n",
    "\n",
    "#No se puede cambiar un elemento de una tupla, se genera un error\n",
    "tupla1[0] = \"Hola mundo\""
   ]
  },
  {
   "cell_type": "markdown",
   "metadata": {},
   "source": [
    "### Listas\n",
    "Permite almacenar varios datos de cualquier tipo de forma ordenada que pueden ser modificados\n",
    "\n",
    "se definen con [ ]"
   ]
  },
  {
   "cell_type": "code",
   "execution_count": null,
   "metadata": {},
   "outputs": [],
   "source": [
    "lista1 = [\"Hola\", 1231, 234]\n",
    "print(\"lista 1\", lista1)\n",
    "\n",
    "# Acceso a un elemento de una lista, se hace a través del índice del elemento\n",
    "print(\"primer elemento lista1:\", lista1[0])\n",
    "\n",
    "#Se puede cambiar un elemento de una lista\n",
    "lista1[0] = \"Hola mundo\"\n",
    "print(\"Lista con primer elemento modificado:\", lista1)\n",
    "\n",
    "#Agregar un nuevo elemento a la lista\n",
    "lista1.append(23.45)\n",
    "print(\"Lista con nuevo elemento:\", lista1)\n",
    "\n",
    "ultimo_elemento = lista1.pop() # devuelve y elimina último elemento de la lista\n",
    "print(\"último elemento:\", ultimo_elemento)\n",
    "print(\"lista con último elemento eliminado\", lista1)"
   ]
  },
  {
   "cell_type": "markdown",
   "metadata": {},
   "source": [
    "### Diccionarios\n",
    "Permite almacenar varios datos en forma clave - valor, por lo que se puede acceder a un elemento por su clave"
   ]
  },
  {
   "cell_type": "code",
   "execution_count": null,
   "metadata": {},
   "outputs": [],
   "source": [
    "capitales = {\"Francia\":\"Paris\", \"Inglaterra\":\"Londres\", \"Italia\":\"Roma\"}\n",
    "\n",
    "# Acceso a un elemento de un diccionario, se hace a través del la clave del elemento\n",
    "print(\"Capital de Francia\", capitales['Francia'])\n",
    "\n",
    "# Adicionalmente tambien se pueden borrar elementos  \n",
    "del(capitales['Italia'])\n",
    "\n",
    "#Se puede cambiar un elemento de un diccionario\n",
    "capitales['Inglaterra'] = 'London'\n",
    "print(\"Nueva capital de Inglaterra:\", capitales['Inglaterra'])"
   ]
  },
  {
   "cell_type": "markdown",
   "metadata": {},
   "source": [
    "### Sets\n",
    "Los sets son contenedores no ordenados de elementos no repetidos"
   ]
  },
  {
   "cell_type": "code",
   "execution_count": null,
   "metadata": {},
   "outputs": [],
   "source": [
    "animales = {\"Perro\", \"Gato\", \"Vaca\", \"Cabra\"}\n",
    "print(\"Animales: \", animales)\n",
    "\n",
    "##Agregar un nuevo elemento al set\n",
    "animales.add(\"Caballo\")\n",
    "\n",
    "animales.add(\"Perro\") # Al agregar un elemento existente, solo se conserva una única vez, no se repite\n",
    "print(\"Animales con un nuevo elemento:\", animales)\n",
    "\n",
    "##Eliminar un elemento del set\n",
    "animales.remove(\"Gato\")\n",
    "\n",
    "print(\"Animales sin Gato\", animales)\n",
    "\n",
    "## Verificar existencia de un elemento en el set\n",
    "print(\"Existe 'Perro' en el set de animales?:\", \"Perro\" in animales)"
   ]
  },
  {
   "cell_type": "markdown",
   "metadata": {},
   "source": [
    "### Datos Anidados\n",
    "Dentro de los diferentes contenedores de datos de python se pueden anidar otros tipos de datos"
   ]
  },
  {
   "cell_type": "code",
   "execution_count": null,
   "metadata": {},
   "outputs": [],
   "source": [
    "ventas = {\n",
    "    \"producto1\": [17000, 27000, 51000, 42000, 35000],\n",
    "    \"producto2\": [23000, 65000, 12000, 68000, 29000]\n",
    "}\n",
    "\n",
    "print(\"Datos de ventas completas: \", ventas)\n",
    "\n",
    "# Acceso a datos anidados\n",
    "\n",
    "# Ventas de producto2\n",
    "print(\"Ventas de producto2\", ventas[\"producto2\"])\n",
    "\n",
    "# Primer registro de ventas de producto1\n",
    "print(\"rimer registro de ventas de producto1\", ventas[\"producto1\"][0])\n"
   ]
  },
  {
   "cell_type": "markdown",
   "metadata": {},
   "source": [
    "## Ejercicio 2\n",
    "\n",
    "Calcular promedio de ventas del elemento `ventas` definido anteriormente"
   ]
  },
  {
   "cell_type": "code",
   "execution_count": null,
   "metadata": {},
   "outputs": [],
   "source": [
    "# Celda para completar Ejercicio 2\n",
    "\n",
    "\n",
    "\n",
    "\n",
    "\n"
   ]
  },
  {
   "cell_type": "markdown",
   "metadata": {},
   "source": [
    "## Conversión de tipos de datos\n",
    "Python incluye de forma nativa funciones para conversión de tipos de datos\n",
    "* Convertir a cadena de texto (string): str()  \n",
    "* Convertir a entero: int()  \n",
    "* A float: float()  \n",
    "* A bool: bool()  "
   ]
  },
  {
   "cell_type": "code",
   "execution_count": null,
   "metadata": {},
   "outputs": [],
   "source": [
    "a = \"34.5\"\n",
    "b = 345\n",
    "\n",
    "print(\"tipo de variable a:\", type(a))\n",
    "print(\"tipo de variable b:\", type(b))\n",
    "\n",
    "c = float(c)\n",
    "print(\"tipo de variable c:\", type(c))\n",
    "\n",
    "d = str(b)\n",
    "print(\"tipo de variable d:\", type(d))\n"
   ]
  },
  {
   "cell_type": "markdown",
   "metadata": {},
   "source": [
    "## Slicing (Subsecuencias)\n",
    "El slicing o subsequencias permiten extraer una parte de una secuencia, vale aclarar que las cadenas de texto son una secuencia, así como las listas y tuplas.\n",
    "\n",
    "```python\n",
    "a[b:c]    # Ítems desde índice b hasta índice c-1\n",
    "a[b:]     # Ítems desde índice b hasta el resto de la scuencia\n",
    "a[:c]     # Items desde el inicio de la secuencia hasta índice c-1\n",
    "a[:]      # Una copia de toda la secuencia\n",
    "```\n",
    "\n",
    "los valores de b y c pueden ser negativos, en este caso:  \n",
    "\n",
    "```python\n",
    "a[-1]     # Último ítem de la secuencia\n",
    "a[-2:]    # Últimos 2 ítems de la secuencia\n",
    "a[:-2]    # Todos los ítems, excepto los 2 últimos de la secuencia\n",
    "```"
   ]
  },
  {
   "cell_type": "code",
   "execution_count": null,
   "metadata": {
    "scrolled": true
   },
   "outputs": [],
   "source": [
    "cadena = \"Hola Mundo\"\n",
    "\n",
    "subcadena = cadena[:4]\n",
    "print(\"Slice cadena[:4]:\", subcadena)\n",
    "\n",
    "subcadena = cadena[-5:]\n",
    "print(\"Slice cadena[-5:]:\", subcadena)\n",
    "\n",
    "subcadena = cadena[2:5]\n",
    "print(\"Slice cadena[2:5]:\", subcadena)"
   ]
  },
  {
   "cell_type": "code",
   "execution_count": null,
   "metadata": {},
   "outputs": [],
   "source": [
    "dias_semana = [\"Lunes\", \"Martes\", \"Miércoles\", \"Jueves\", \"Viernes\", \"Sábado\", \"Domingo\"]\n",
    "\n",
    "fin_de_semana = dias_semana[-2:]\n",
    "print(\"Dias fin de semana:\",fin_de_semana)\n",
    "\n",
    "dias_laborales = dias_semana[:5]\n",
    "print(\"Dias laborales:\",dias_laborales)"
   ]
  },
  {
   "cell_type": "markdown",
   "metadata": {},
   "source": [
    "## Ejercicio 3\n",
    "* Crear una cadena de texto con tu nombre completo\n",
    "* Extraer por medio de Slicing tu primer apellido"
   ]
  },
  {
   "cell_type": "code",
   "execution_count": null,
   "metadata": {},
   "outputs": [],
   "source": [
    "# Celda para completar Ejercicio 3\n",
    "\n",
    "\n",
    "\n",
    "\n",
    "\n",
    "\n"
   ]
  },
  {
   "cell_type": "markdown",
   "metadata": {},
   "source": [
    "## Estructuras de control de flujo\n"
   ]
  },
  {
   "cell_type": "markdown",
   "metadata": {},
   "source": [
    "### Condicional if"
   ]
  },
  {
   "cell_type": "code",
   "execution_count": null,
   "metadata": {},
   "outputs": [],
   "source": [
    "x = int(input(\"Ingresa un número entero por favor: \"))\n",
    "\n",
    "if x < 0:\n",
    "    print('El número ingresado es Negativo')\n",
    "elif x == 0:\n",
    "    print('El numero ingresado es Cero')\n",
    "else:\n",
    "    print('El número ingresado es Positivo')"
   ]
  },
  {
   "cell_type": "markdown",
   "metadata": {},
   "source": [
    "### Instrucción vacía\n",
    "Python tiene una instrucción `pass` que no hace nada, se usa cuando se por sintaxis se requere una instrucción, pero que no haga nada"
   ]
  },
  {
   "cell_type": "code",
   "execution_count": null,
   "metadata": {},
   "outputs": [],
   "source": [
    "x = int(input(\"Ingresa un número entero por favor: \"))\n",
    "\n",
    "if x < 0:\n",
    "    print('El número ingresado es Negativo')\n",
    "elif x == 0:\n",
    "    pass\n",
    "else:\n",
    "    print('El número ingresado es Positivo')"
   ]
  },
  {
   "cell_type": "markdown",
   "metadata": {},
   "source": [
    "#### Bucle while\n",
    "Este bucle se ejecuta mientras la condicion que le sigue sea True\n",
    "```python\n",
    "x = int(input(\"Ingresa tu edad: \"))\n",
    "cumple = 1\n",
    "\n",
    "while cumple <= x:\n",
    "    print(\"Cumpleaños:\",cumple)\n",
    "    cumple += 1\n",
    "```"
   ]
  },
  {
   "cell_type": "code",
   "execution_count": null,
   "metadata": {},
   "outputs": [],
   "source": [
    "x = int(input(\"Ingresa tu edad: \"))\n",
    "cumple = 1\n",
    "\n",
    "while cumple <= x:\n",
    "    print(\"Cumpleaños:\",cumple)\n",
    "    cumple += 1"
   ]
  },
  {
   "cell_type": "markdown",
   "metadata": {},
   "source": [
    "### Bucle for"
   ]
  },
  {
   "cell_type": "code",
   "execution_count": null,
   "metadata": {},
   "outputs": [],
   "source": [
    "dias_semana = [\"Lunes\", \"Martes\", \"Miércoles\", \"Jueves\", \"Viernes\", \"Sábado\", \"Domingo\"]\n",
    "\n",
    "for dia in dias_semana:\n",
    "    print(\"Dia:\", dia)"
   ]
  },
  {
   "cell_type": "code",
   "execution_count": null,
   "metadata": {},
   "outputs": [],
   "source": [
    "longitud_dias = len(dias_semana)  #Función len() en una Lista retorna la cantidad de elementos que contiene la lista\n",
    "print(\"Cantidad de días:\",longitud_dias)\n",
    "\n",
    "#Funcion range devuelve una secuencia que inicia en cero y termina un número anterior al argumento\n",
    "for i in range(longitud_dias):   \n",
    "    print(\"Dia\",i, dias_semana[i])"
   ]
  },
  {
   "cell_type": "markdown",
   "metadata": {},
   "source": [
    "### Operadores break, continue\n",
    "El operador `break` se usa para salir del bucle, y `continue` para pasar a la siguiente iteración del bucle"
   ]
  },
  {
   "cell_type": "code",
   "execution_count": null,
   "metadata": {},
   "outputs": [],
   "source": [
    "for dia in dias_semana:\n",
    "    if dia == \"Sábado\":\n",
    "        print(\"Ha iniciado el fin de semana\")\n",
    "        break\n",
    "    print(\"Dia:\", dia)"
   ]
  },
  {
   "cell_type": "code",
   "execution_count": null,
   "metadata": {},
   "outputs": [],
   "source": [
    "for dia in dias_semana:\n",
    "    if dia == \"Viernes\":\n",
    "        print(\"Hoy es viernes, vamos a bailar\")\n",
    "        continue\n",
    "    print(\"Dia:\", dia)\n"
   ]
  },
  {
   "cell_type": "markdown",
   "metadata": {},
   "source": [
    "### Comprensión de listas (list comprehension)\n",
    "Permite crear listas a partir de un bucle en una sola línea de código.\n",
    "\n",
    "A partir de un bucle se especifica el elemento que se va a adicionar a la lista, la definicion del bucle y condición `if` si aplica\n",
    "\n",
    "```python\n",
    "# Forma tradicional\n",
    "lista_pares_tradicional = []\n",
    "for x in range(5):\n",
    "    if x > 0:\n",
    "        lista_pares_tradicional.append(x*2)\n",
    "```"
   ]
  },
  {
   "cell_type": "code",
   "execution_count": null,
   "metadata": {},
   "outputs": [],
   "source": [
    "# Se desea crear una lista de numeros pares mayores a 0 y menores a 10\n",
    "\n",
    "# Forma tradicional\n",
    "lista_pares_tradicional = []\n",
    "for x in range(5):\n",
    "    if x > 0:\n",
    "        lista_pares_tradicional.append(x*2)\n",
    "\n",
    "print(\"Resultado lista de pares forma tradicional: \", lista_pares_tradicional)\n",
    "        \n",
    "    \n",
    "# Usando comprensión de listas\n",
    "lista_pares = [ x*2 for x in range(5) if x > 0 ]\n",
    "\n",
    "print(\"Resultado lista de pares usando comprension de listas: \", lista_pares)"
   ]
  },
  {
   "cell_type": "markdown",
   "metadata": {},
   "source": [
    "## Ejercicio 4.\n",
    "Escribe un programa que muestre imprima en pantalla todos los números del 1 al 100, \n",
    "pero cuando el número sea múltiplo de 7 o termine en 7, éste debe ser reemplazado por la palabra \"pum!\".\n",
    "\n",
    "1  \n",
    "2  \n",
    "3  \n",
    "4  \n",
    "5  \n",
    "6  \n",
    "pum!  \n",
    "8  \n",
    "9  \n",
    "10  \n",
    "11  \n",
    "12  \n",
    "13  \n",
    "pum!  \n",
    "14  \n",
    "15  \n",
    "16  \n",
    "pum!  \n",
    "..."
   ]
  },
  {
   "cell_type": "code",
   "execution_count": null,
   "metadata": {},
   "outputs": [],
   "source": [
    "# Celda para crear el código del Ejercicio 4\n",
    "\n",
    "\n",
    "\n",
    "\n",
    "\n",
    "\n",
    "\n"
   ]
  },
  {
   "cell_type": "markdown",
   "metadata": {},
   "source": [
    "## Excepciones\n",
    "Los errores detectados durante la ejecución se llaman excepciones, y estas deben ser manejadas para que no sean fatales.\n",
    "\n",
    "```python\n",
    "try:     \n",
    "    bloque codigo\n",
    "except Exception:\n",
    "    codigo si aparece excepcion\n",
    "```"
   ]
  },
  {
   "cell_type": "code",
   "execution_count": null,
   "metadata": {},
   "outputs": [],
   "source": [
    "# Ejemplo de Excepcion IndexError\n",
    "\n",
    "dias_semana = [\"Lunes\", \"Martes\", \"Miércoles\", \"Jueves\", \"Viernes\", \"Sábado\", \"Domingo\"]\n",
    "\n",
    "dia10 = dias_semana[10]"
   ]
  },
  {
   "cell_type": "markdown",
   "metadata": {},
   "source": [
    "### Manejando Excepciones\n",
    "Para manejar excepciones se utiliza `try` `except`. Se ejecuta el bloque de código que este dentro de `try` y si no ocurre ninguna excepcion se continua con la ejecución después del bloque de `except`. Si ocurre una excepción dentro del bloque de `try`, la ejecución se interrumpe. Si la excepción coincide con la que se define en `except`, continúa la ejecución asociada a esa excepción."
   ]
  },
  {
   "cell_type": "code",
   "execution_count": null,
   "metadata": {},
   "outputs": [],
   "source": [
    "# Ejemplo de manejo de Excepción IndexError\n",
    "\n",
    "dias_semana = [\"Lunes\", \"Martes\", \"Miércoles\", \"Jueves\", \"Viernes\", \"Sábado\", \"Domingo\"]\n",
    "\n",
    "try:\n",
    "    dia10 = dias_semana[10]\n",
    "except IndexError:\n",
    "    print(\"Dia de la semana para ese índice no existe\")"
   ]
  },
  {
   "cell_type": "markdown",
   "metadata": {},
   "source": [
    "## Ejercicio 5.  \n",
    "Manejo de Excepción\n",
    "\n",
    "Escribe un programa que le pida al usuario 2 numeros y retorne pimpreso el valor de la division entre ellos. En este programa debe considerar lo sigiente:\n",
    "1. Usar la función input para obtener cada uno de los números.\n",
    "2. Cada numero recibido debe convertirlo en entero usando el cast int(texto a convertir)\n",
    "3. Pruebe el programa ingresando el nùmero 0 para descubrir la excepción que arroja python\n",
    "4. Use dicha excepción y manejela arrojando el mensaje \"No se puede dividir por cero\""
   ]
  },
  {
   "cell_type": "code",
   "execution_count": null,
   "metadata": {},
   "outputs": [],
   "source": [
    "# Celda para crear el código del Ejercicio 5\n",
    "\n",
    "\n",
    "\n",
    "\n",
    "\n"
   ]
  },
  {
   "cell_type": "markdown",
   "metadata": {},
   "source": [
    "## Programación orientada a objetos en python\n",
    "La programación orientada a objetos es un paradigma en programación que utiliza clases y objetos.\n",
    "Python permite programación orientada a objetos"
   ]
  },
  {
   "cell_type": "markdown",
   "metadata": {},
   "source": [
    "### Clases\n",
    "Las clases son los modelos de los cuales se crean los objetos. Se definen con la palabra reservada `class`"
   ]
  },
  {
   "cell_type": "code",
   "execution_count": null,
   "metadata": {},
   "outputs": [],
   "source": [
    "#Ejemplo de definición de una clase\n",
    "\n",
    "class persona:\n",
    "    pass\n"
   ]
  },
  {
   "cell_type": "markdown",
   "metadata": {},
   "source": [
    "#### Atributos\n",
    "Un atributo es una propiedad de un clase, en Python pueden definirse como cualquier tipo de dato"
   ]
  },
  {
   "cell_type": "code",
   "execution_count": null,
   "metadata": {},
   "outputs": [],
   "source": [
    "class persona:\n",
    "    # atributos\n",
    "    nombre = \"\"\n",
    "    apellido = \"\"\n",
    "    edad = 0"
   ]
  },
  {
   "cell_type": "markdown",
   "metadata": {},
   "source": [
    "#### Métodos\n",
    "Las clases pueden contener métodos (funciones)"
   ]
  },
  {
   "cell_type": "code",
   "execution_count": null,
   "metadata": {},
   "outputs": [],
   "source": [
    "class persona:\n",
    "    # atributos\n",
    "    nombre = \"\"\n",
    "    apellido = \"\"\n",
    "    edad = 0\n",
    "    \n",
    "    # metodo\n",
    "    def cumpleaños(self):    # el primer parámetro de un método, siempre debe ser self.\n",
    "        self.edad += 1       # El acceso a las propiedades de la misma clase se hacen a través de self"
   ]
  },
  {
   "cell_type": "markdown",
   "metadata": {},
   "source": [
    "### Objetos\n",
    "Las clases por sí solas son modelos o plantillas, es necesario crear un objeto a partir de una clase, esto se llama crear una instancia o instanciar.\n",
    "\n",
    "Para acceder a propiedades o métodos de un objeto se utiliza punto (.)"
   ]
  },
  {
   "cell_type": "code",
   "execution_count": null,
   "metadata": {},
   "outputs": [],
   "source": [
    "dario = persona()\n",
    "\n",
    "dario.edad = 25\n",
    "print(\"Edad inicial de Dario:\", dario.edad)\n",
    "\n",
    "dario.cumpleaños()\n",
    "print(\"Nueva edad de Dario\", dario.edad)"
   ]
  },
  {
   "cell_type": "markdown",
   "metadata": {},
   "source": [
    "### Métodos especiales\n",
    "Existen métodos que se invocan implicitamente en circunstacias determinadas, entre esos están `__init__` y `__str__`\n",
    "#### Al crear un objeto\n",
    "```python\n",
    "__init__(self,args)\n",
    "```\n",
    "Este metodo se invoca al instanciar una clase, los argumentos que recibe son lo se pasan como parámetro el nombre de la clase.\n",
    "\n",
    "#### Representación de los objetos como cadenas\n",
    "```python\n",
    "__str__(self)\n",
    "```\n",
    "Se usa para devolver una representacion en cadena de texto del objeto, por ejemplo cuando se llame en una funcion print \n",
    "\n",
    "```python\n",
    "from persona import persona\n",
    "\n",
    "luis = persona.persona(\"Luis\",\"Gonzalez\", 32)\n",
    "\n",
    "    ```"
   ]
  },
  {
   "cell_type": "code",
   "execution_count": null,
   "metadata": {},
   "outputs": [],
   "source": [
    "class persona:\n",
    "    nombre = \"\"\n",
    "    apellido = \"\"\n",
    "    edad = 0\n",
    "    \n",
    "    def cumpleaños(self):\n",
    "        self.edad += 1\n",
    "    \n",
    "    def __init__(self, nombre, apellido, edad):\n",
    "        self.nombre = nombre\n",
    "        self.apellido = apellido\n",
    "        self.edad = edad\n",
    "    \n",
    "    def __str__(self):\n",
    "        return self.nombre + \" \" + self.apellido\n",
    "    \n",
    "luis = persona(\"Luis\",\"Gonzalez\", 32)\n",
    "\n",
    "print(luis)\n"
   ]
  },
  {
   "cell_type": "markdown",
   "metadata": {},
   "source": [
    "### Herencia\n",
    "En programación orientada a objetos la herencia se usa para crear clases a partir de clases existentes, se heredan los métodos y atributos"
   ]
  },
  {
   "cell_type": "code",
   "execution_count": null,
   "metadata": {},
   "outputs": [],
   "source": [
    "class estudiante(persona):\n",
    "    escuela = \"\"\n",
    "    \n",
    "    def __init__(self, nombre, apellido, edad, escuela):\n",
    "        self.nombre = nombre\n",
    "        self.apellido = apellido\n",
    "        self.edad = edad\n",
    "        self.escuela = escuela\n",
    "    \n",
    "    def __str__(self):\n",
    "        return self.escuela + \" - \" + self.nombre + \" \" + self.apellido\n",
    "    \n",
    "estudiante1 = estudiante(\"Luis\",\"Gonzalez\", 32, \"Escuela Nueva\")\n",
    "\n",
    "print(\"Estudiante:\",estudiante1)"
   ]
  },
  {
   "cell_type": "markdown",
   "metadata": {},
   "source": [
    "## Ejercicio 6\n",
    "* Crea una clase `mascota`.\n",
    "* Agrega los métodos `__init__` y `__str__`, para instanciacion y llamado como cadena de texto \n",
    "* Ponle atributos y métodos que creas convenientes para una mascota.\n",
    "* Crea una clase `perro` que sea heredada de la clase `mascota`.\n",
    "* Agrega a la clase `perro` atributo(s) y/o metodo(s) que creas unicos sobre otras mascotas\n",
    "* Si es necesario modifica los métodos `__init__` y `__str__`"
   ]
  },
  {
   "cell_type": "code",
   "execution_count": null,
   "metadata": {},
   "outputs": [],
   "source": [
    "# Celda para completar Ejercicio 6\n",
    "\n",
    "\n",
    "\n",
    "\n",
    "\n",
    "\n",
    "\n"
   ]
  },
  {
   "cell_type": "markdown",
   "metadata": {},
   "source": [
    "### Módulos o Bibliotecas\n",
    "Python cuenta con una gran cantidad de objetos y funciones en forma de módulos o bibliotecas, \n",
    "para poder usarlos, se deben importar\n",
    "\n",
    "```python\n",
    "import math\n",
    "fact = math.factorial(5)\n",
    "```\n",
    "\n",
    "Importar una función o clase de un módulo:  \n",
    "    \n",
    "```python\n",
    "from math import factorial\n",
    "fact = factorial(5)\n",
    "```"
   ]
  },
  {
   "cell_type": "markdown",
   "metadata": {},
   "source": [
    "## Ejercicio 7\n",
    "* importar paquete `datetime`\n",
    "* imprimir hora actual en formato `YYYY-MM-DD HH:MM:SS`"
   ]
  },
  {
   "cell_type": "code",
   "execution_count": null,
   "metadata": {},
   "outputs": [],
   "source": [
    "# Celda para completar Ejercicio 7\n",
    "\n",
    "\n",
    "\n",
    "\n",
    "\n",
    "\n"
   ]
  }
 ],
 "metadata": {
  "kernelspec": {
   "display_name": "Python 3",
   "language": "python",
   "name": "python3"
  },
  "language_info": {
   "codemirror_mode": {
    "name": "ipython",
    "version": 3
   },
   "file_extension": ".py",
   "mimetype": "text/x-python",
   "name": "python",
   "nbconvert_exporter": "python",
   "pygments_lexer": "ipython3",
   "version": "3.7.7"
  },
  "pycharm": {
   "stem_cell": {
    "cell_type": "raw",
    "metadata": {
     "collapsed": false
    },
    "source": []
   }
  }
 },
 "nbformat": 4,
 "nbformat_minor": 2
}
