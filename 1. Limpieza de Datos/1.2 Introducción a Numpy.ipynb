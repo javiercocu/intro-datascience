{
 "cells": [
  {
   "cell_type": "markdown",
   "metadata": {},
   "source": [
    "# Numpy\n",
    "Numpy es una librería para computación científica en Python. Provee objetos tipo arreglos (arrays) multidimensionales de alto rendimiento y optimizados para cálculos científicos."
   ]
  },
  {
   "cell_type": "code",
   "execution_count": null,
   "metadata": {},
   "outputs": [],
   "source": [
    "# Importar modulo numpy\n",
    "import numpy as np"
   ]
  },
  {
   "cell_type": "markdown",
   "metadata": {},
   "source": [
    "## Arreglos (Arrays) en numpy\n",
    "Los arreglos en numpy contienen ítems, todos del mismo tipo"
   ]
  },
  {
   "cell_type": "code",
   "execution_count": null,
   "metadata": {},
   "outputs": [],
   "source": [
    "a = np.array([1, 2, 3])   # Crear un array unidimensional\n",
    "\n",
    "print(\"a:\", a)   \n",
    "print(\"Tipo de a:\", type(a))\n",
    "\n",
    "print(\"Forma de a:\", a.shape)\n",
    "\n",
    "#Cambiar un elemento de un array numpy\n",
    "a[0] = 4\n",
    "print(\"a:\", a)"
   ]
  },
  {
   "cell_type": "code",
   "execution_count": null,
   "metadata": {},
   "outputs": [],
   "source": [
    "b = np.array([[1, 2, 3], [4, 5, 6]])   # Crear un array bidimensional\n",
    "\n",
    "print(\"b:\", a)   \n",
    "\n",
    "print(\"Forma de b:\", b.shape)\n",
    "\n",
    "#Cambiar un elemento de un array numpy\n",
    "b[0,0] = 8\n",
    "print(\"b:\", b)"
   ]
  },
  {
   "cell_type": "markdown",
   "metadata": {},
   "source": [
    "### Funciones para creación de arreglos Numpy\n",
    "Numpy provee funciones para creación de arreglos, entre estas:"
   ]
  },
  {
   "cell_type": "code",
   "execution_count": null,
   "metadata": {},
   "outputs": [],
   "source": [
    "# Crear un arreglo de 1 dimensión lleno de ceros\n",
    "ceros = np.zeros((1,4))\n",
    "print(\"Arreglo de Ceros:\", ceros)"
   ]
  },
  {
   "cell_type": "code",
   "execution_count": null,
   "metadata": {},
   "outputs": [],
   "source": [
    "# Crear un arreglo de 3 dimensiones lleno de unos\n",
    "unos = np.ones((2,3,3))\n",
    "print(\"Arreglo de Unos:\\n\", unos)"
   ]
  },
  {
   "cell_type": "code",
   "execution_count": null,
   "metadata": {},
   "outputs": [],
   "source": [
    "# Crear un arreglo lleno de una constante\n",
    "constante = np.full((3,3), 7)\n",
    "print(\"Arreglo de una constante\\n\", constante) "
   ]
  },
  {
   "cell_type": "code",
   "execution_count": null,
   "metadata": {},
   "outputs": [],
   "source": [
    "# Crear una matriz identidad de 4x4\n",
    "identidad = np.eye(4)         \n",
    "print(\"Matriz Identidad\\n\", identidad)"
   ]
  },
  {
   "cell_type": "code",
   "execution_count": null,
   "metadata": {},
   "outputs": [],
   "source": [
    "# Crear una arreglo con valores aleatorios\n",
    "aleatorio = np.random.random((2,4))  \n",
    "print(\"Arreglo aleatorio\\n\", aleatorio)                     "
   ]
  },
  {
   "cell_type": "markdown",
   "metadata": {},
   "source": [
    "### Slicing en arreglos numpy\n",
    "Así como las listas o cadenas de caractéres, en los arreglos de numpy se puede hacer slicing"
   ]
  },
  {
   "cell_type": "markdown",
   "metadata": {},
   "source": [
    "### Ejercicio 3. \n",
    "Seleccionar por medio del slicing los elementos comprendidos desde la segunda columna hasta la ultima y entre la segunda y tercera fila"
   ]
  },
  {
   "cell_type": "code",
   "execution_count": null,
   "metadata": {},
   "outputs": [],
   "source": [
    "# Celda para crear el código del Ejercicio 3\n",
    "a = np.array([[1, 2, 3, 4], [5, 6, 7, 8], [9, 10, 11, 12], [13, 14, 15, 16]])\n",
    "print(a)\n",
    "\n",
    "## Completar ejercicio ...\n"
   ]
  },
  {
   "cell_type": "markdown",
   "metadata": {},
   "source": [
    "### Copias y Vistas\n",
    "A diferencia de una lista, cuando asignamos un arreglo de numpy a través del signo igual (=), lo que obtenemos es una vista del arreglo original, es decir que si modificamos algún elemento en la nuevo objeto, también modificaremos el arreglo original.  "
   ]
  },
  {
   "cell_type": "code",
   "execution_count": null,
   "metadata": {},
   "outputs": [],
   "source": [
    "a = np.array([1,2,3,4])\n",
    "\n",
    "b = a   # b es una vista del arreglo a\n",
    "\n",
    "b[0] = 8   # al modificar un elemento del arreglo b, se esta modificando el arreglo a\n",
    "\n",
    "print(a)"
   ]
  },
  {
   "cell_type": "markdown",
   "metadata": {},
   "source": [
    "Para crear una copia de un arreglo numpy se debe usar la funcion copy:"
   ]
  },
  {
   "cell_type": "code",
   "execution_count": null,
   "metadata": {},
   "outputs": [],
   "source": [
    "a = np.array([1,2,3,4])\n",
    "\n",
    "b = a.copy()   # b es una copia del arreglo a\n",
    "\n",
    "b[0] = 8   # al modificar un elemento del arreglo b, no se esta modificando el arreglo a\n",
    "\n",
    "print(a)"
   ]
  },
  {
   "cell_type": "markdown",
   "metadata": {},
   "source": [
    "### Operaciones numéricas sobre arreglos numpy"
   ]
  },
  {
   "cell_type": "markdown",
   "metadata": {},
   "source": [
    "#### Operaciones sobre elementos"
   ]
  },
  {
   "cell_type": "markdown",
   "metadata": {},
   "source": [
    "* Operaciones escalares"
   ]
  },
  {
   "cell_type": "code",
   "execution_count": null,
   "metadata": {},
   "outputs": [],
   "source": [
    "a = np.array([1, 2, 3, 4])\n",
    "a + 1"
   ]
  },
  {
   "cell_type": "code",
   "execution_count": null,
   "metadata": {},
   "outputs": [],
   "source": [
    "a * 3"
   ]
  },
  {
   "cell_type": "code",
   "execution_count": null,
   "metadata": {},
   "outputs": [],
   "source": [
    "a / 4"
   ]
  },
  {
   "cell_type": "code",
   "execution_count": null,
   "metadata": {},
   "outputs": [],
   "source": [
    "a ** 2"
   ]
  },
  {
   "cell_type": "markdown",
   "metadata": {},
   "source": [
    "* Operaciones aritméticas"
   ]
  },
  {
   "cell_type": "code",
   "execution_count": null,
   "metadata": {},
   "outputs": [],
   "source": [
    "a = np.array([1, 2, 3, 4])\n",
    "b = np.array([6, 7, 8, 9])"
   ]
  },
  {
   "cell_type": "code",
   "execution_count": null,
   "metadata": {},
   "outputs": [],
   "source": [
    "a + b"
   ]
  },
  {
   "cell_type": "code",
   "execution_count": null,
   "metadata": {},
   "outputs": [],
   "source": [
    "b - a"
   ]
  },
  {
   "cell_type": "code",
   "execution_count": null,
   "metadata": {},
   "outputs": [],
   "source": [
    "a * b"
   ]
  },
  {
   "cell_type": "code",
   "execution_count": null,
   "metadata": {},
   "outputs": [],
   "source": [
    "c = np.full((3, 3),4)\n",
    "c\n",
    "\n",
    "### Cambiar elemento de ejemplo"
   ]
  },
  {
   "cell_type": "code",
   "execution_count": null,
   "metadata": {},
   "outputs": [],
   "source": [
    "# Multiplicacion elemento por elemento\n",
    "c * c"
   ]
  },
  {
   "cell_type": "code",
   "execution_count": null,
   "metadata": {},
   "outputs": [],
   "source": [
    "# Multiplicacion matricial\n",
    "c.dot(c)"
   ]
  },
  {
   "cell_type": "markdown",
   "metadata": {},
   "source": [
    "* Operaciones lógicas"
   ]
  },
  {
   "cell_type": "code",
   "execution_count": null,
   "metadata": {},
   "outputs": [],
   "source": [
    "a = np.array([1, 2, 3, 4])\n",
    "b = np.array([1, 1, 3, 3])"
   ]
  },
  {
   "cell_type": "code",
   "execution_count": null,
   "metadata": {},
   "outputs": [],
   "source": [
    "a == b"
   ]
  },
  {
   "cell_type": "code",
   "execution_count": null,
   "metadata": {},
   "outputs": [],
   "source": [
    "a > b"
   ]
  },
  {
   "cell_type": "code",
   "execution_count": null,
   "metadata": {},
   "outputs": [],
   "source": [
    "a = np.array([1, 0, 0, 1], dtype=bool)\n",
    "b = np.array([1, 1, 0, 0], dtype=bool)"
   ]
  },
  {
   "cell_type": "code",
   "execution_count": null,
   "metadata": {},
   "outputs": [],
   "source": [
    "a | b   # or ó np.logical_or "
   ]
  },
  {
   "cell_type": "code",
   "execution_count": null,
   "metadata": {},
   "outputs": [],
   "source": [
    "a & b   # and ó np.logical_and "
   ]
  },
  {
   "cell_type": "code",
   "execution_count": null,
   "metadata": {},
   "outputs": [],
   "source": [
    "a ^ b   # xor ó np.logical_xor"
   ]
  },
  {
   "cell_type": "code",
   "execution_count": null,
   "metadata": {},
   "outputs": [],
   "source": [
    "~a     # not ó np.logical_not"
   ]
  },
  {
   "cell_type": "markdown",
   "metadata": {},
   "source": [
    "* Operaciones de agregación"
   ]
  },
  {
   "cell_type": "code",
   "execution_count": null,
   "metadata": {},
   "outputs": [],
   "source": [
    "a = np.random.random(100)\n",
    "a"
   ]
  },
  {
   "cell_type": "code",
   "execution_count": null,
   "metadata": {},
   "outputs": [],
   "source": [
    "# Sumatoria\n",
    "suma = a.sum()    # Sumar todos los elementos del arreglo\n",
    "print(\"Suma elementos arreglo a:\", suma)"
   ]
  },
  {
   "cell_type": "markdown",
   "metadata": {},
   "source": [
    "Los metodos de agregación en numpy son optimizados para mayor rendimiento"
   ]
  },
  {
   "cell_type": "code",
   "execution_count": null,
   "metadata": {},
   "outputs": [],
   "source": [
    "arreglo_grande = np.random.rand(1000000)\n",
    "%timeit sum(arreglo_grande)  # %timeit En jupyter notebook  mide el tiempo de ejecución\n",
    "%timeit np.sum(arreglo_grande)\n",
    "%timeit arreglo_grande.sum()"
   ]
  },
  {
   "cell_type": "code",
   "execution_count": null,
   "metadata": {},
   "outputs": [],
   "source": [
    "# Máximo y mínimo\n",
    "print(\"Valor Mínimo en arreglo:\", np.min(arreglo_grande))\n",
    "print(\"Valor Máximo en arreglo:\", arreglo_grande.max())"
   ]
  },
  {
   "cell_type": "markdown",
   "metadata": {},
   "source": [
    "* Agregación multidimensional"
   ]
  },
  {
   "cell_type": "code",
   "execution_count": null,
   "metadata": {},
   "outputs": [],
   "source": [
    "matriz = np.array([[1, 2, 3 ,4],[5, 6, 7, 8], [9, 10, 11, 12], [13, 14, 15, 16]])\n",
    "matriz"
   ]
  },
  {
   "cell_type": "code",
   "execution_count": null,
   "metadata": {},
   "outputs": [],
   "source": [
    "#Sumatoria de todos los elementos de la matriz\n",
    "matriz.sum()"
   ]
  },
  {
   "cell_type": "code",
   "execution_count": null,
   "metadata": {},
   "outputs": [],
   "source": [
    "# Sumatoria de Columnas\n",
    "matriz.sum(axis = 0)"
   ]
  },
  {
   "cell_type": "code",
   "execution_count": null,
   "metadata": {},
   "outputs": [],
   "source": [
    "# Sumatoria de filas\n",
    "matriz.sum(axis = 1)"
   ]
  },
  {
   "cell_type": "markdown",
   "metadata": {},
   "source": [
    "* Algunas Funciones de agregacion\n",
    "\n",
    "Nombre de función | Descripción\n",
    "--- | ---\n",
    "np.sum  | Sumatoria de los elementos\n",
    "np.prod | Calcula el producto de todos los elementos\n",
    "np.mean | Calcula la media de los elementos\n",
    "np.std | Calcula desviación Estándar\n",
    "np.var | Calcula la Variancia\n",
    "np.min | Encuentra el valor mínimo\n",
    "np.max | Encuentra el valor máximo\n",
    "np.argmin | Encuentra el índice del valor mínimo\n",
    "np.argmax | Encuentra el índice del valor máximo\n",
    "np.median | Calcula la mediana de los elementos"
   ]
  },
  {
   "cell_type": "markdown",
   "metadata": {},
   "source": [
    "### Ejercicio 4.\n",
    "* Crear una matriz de 10x8 con 1's en los bordes y 0 en el interior.\n",
    "    * Usar la función np.ones\n",
    "    * Usar Slicing para rellenar de 0 los datos internos de la matriz\n",
    "* Crear una arreglo que sume todas las filas de la matriz creada"
   ]
  },
  {
   "cell_type": "code",
   "execution_count": null,
   "metadata": {},
   "outputs": [],
   "source": [
    "\n"
   ]
  },
  {
   "cell_type": "code",
   "execution_count": null,
   "metadata": {},
   "outputs": [],
   "source": []
  },
  {
   "cell_type": "code",
   "execution_count": null,
   "metadata": {},
   "outputs": [],
   "source": []
  }
 ],
 "metadata": {
  "kernelspec": {
   "display_name": "Python 3",
   "language": "python",
   "name": "python3"
  },
  "language_info": {
   "codemirror_mode": {
    "name": "ipython",
    "version": 3
   },
   "file_extension": ".py",
   "mimetype": "text/x-python",
   "name": "python",
   "nbconvert_exporter": "python",
   "pygments_lexer": "ipython3",
   "version": "3.6.2"
  }
 },
 "nbformat": 4,
 "nbformat_minor": 2
}
