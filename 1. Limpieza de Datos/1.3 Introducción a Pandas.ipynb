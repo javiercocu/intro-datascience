{
 "cells": [
  {
   "cell_type": "markdown",
   "metadata": {},
   "source": [
    "# Pandas\n",
    "Pandas es una librería de alto rendimiento para estructuras y para análisis de datos en Python. Entre sus características principales están:\n",
    "\n",
    "* Una clase DataFrame eficiente para manipulacion de datos con indexado integrado\n",
    "* Herramientas para leer y escribir entre estructuras almacenadas en memoria y diferentes formatos como CSV, archivos de texto plano, Excel, Bases de datos SQL y HDF5;\n",
    "* Alienación de data \n",
    "* Alineacion inteligente de datos y manejo integrado de data faltante.\n",
    "* Soporte para redimensionamiento y tablas de pivote.\n",
    "* Soporte Slicing, y slicing basado en etiquetas.\n",
    "* Las columnas pueden ser insertadas o borradas de las estructuras de datos.\n",
    "* Agregacion o transformación de datos con un poderoso motor de agrupacion (group by) permitiendo dividir-aplicar-combinar en los data sets.\n",
    "* Merge y Join de alto rendimiento.\n",
    "* Índices Jerárjicos por ejes que proveen una forma intuitiva de trabajar con datos multidimensionales en una estructura de menos dimensiones.\n",
    "* Funcionalidad para manejo de series de tiempo.\n",
    "* Python con pandas es usado en variedad de dominios comerciales y académicos, incluido Finanza, Nerociencia, Economía, Estadística, Marketing y mas"
   ]
  },
  {
   "cell_type": "code",
   "execution_count": null,
   "metadata": {},
   "outputs": [],
   "source": [
    "# Importar modulo pandas\n",
    "import pandas as pd\n",
    "import numpy as np"
   ]
  },
  {
   "cell_type": "markdown",
   "metadata": {},
   "source": [
    "## Series\n",
    "Un objeto Series en pandas es un array unidimensional de datos indexados. Es análogo a un array numpy de una dimensión"
   ]
  },
  {
   "cell_type": "code",
   "execution_count": null,
   "metadata": {},
   "outputs": [],
   "source": [
    "serie1 = pd.Series([10, 20, 30, 40, 50, 60, 70, 80, 90])\n",
    "serie1"
   ]
  },
  {
   "cell_type": "code",
   "execution_count": null,
   "metadata": {},
   "outputs": [],
   "source": [
    "serie1.values"
   ]
  },
  {
   "cell_type": "code",
   "execution_count": null,
   "metadata": {},
   "outputs": [],
   "source": [
    "serie1.index"
   ]
  },
  {
   "cell_type": "code",
   "execution_count": null,
   "metadata": {},
   "outputs": [],
   "source": [
    "serie1[1]"
   ]
  },
  {
   "cell_type": "code",
   "execution_count": null,
   "metadata": {},
   "outputs": [],
   "source": [
    "serie1[3:5]"
   ]
  },
  {
   "cell_type": "code",
   "execution_count": null,
   "metadata": {},
   "outputs": [],
   "source": [
    "serie1 = pd.Series([10, 20, 30, 40, 50, 60, 70, 80, 90], index = ['a', 'b', 'c', 'd', 'e', 'f', 'g', 'h', 'i'])\n",
    "serie1"
   ]
  },
  {
   "cell_type": "code",
   "execution_count": null,
   "metadata": {},
   "outputs": [],
   "source": [
    "serie1['d']"
   ]
  },
  {
   "cell_type": "code",
   "execution_count": null,
   "metadata": {},
   "outputs": [],
   "source": [
    "dic_poblacion = { \"Bogotá\": 8181047,\n",
    "             \"Medellín\": 2529403,\n",
    "             \"Cali\": 2445281,\n",
    "             \"Barranquilla\": 1232766 }\n",
    "\n",
    "poblacion = pd.Series(dic_poblacion)\n",
    "poblacion"
   ]
  },
  {
   "cell_type": "code",
   "execution_count": null,
   "metadata": {},
   "outputs": [],
   "source": [
    "poblacion[\"Cali\"]"
   ]
  },
  {
   "cell_type": "code",
   "execution_count": null,
   "metadata": {},
   "outputs": [],
   "source": [
    "poblacion[\"Bogotá\":\"Medellín\"]"
   ]
  },
  {
   "cell_type": "markdown",
   "metadata": {},
   "source": [
    "## DataFrame\n",
    "Un Dataframe en pandas es un array bidimensional de datos indexados. Es análogo a un array numpy de dos dimensión. Se puede decir que un DataFrame es una secuencia de objetos Series alienados que comparten el mismo índice."
   ]
  },
  {
   "cell_type": "code",
   "execution_count": null,
   "metadata": {},
   "outputs": [],
   "source": [
    "dic_poblacion = { \"Bogotá\": 8181047,\n",
    "             \"Medellín\": 2529403,\n",
    "             \"Cali\": 2445281,\n",
    "             \"Barranquilla\": 1232766 }\n",
    "\n",
    "poblacion = pd.Series(dic_poblacion)\n",
    "poblacion"
   ]
  },
  {
   "cell_type": "code",
   "execution_count": null,
   "metadata": {},
   "outputs": [],
   "source": [
    "dic_area = { \"Bogotá\": 1587,\n",
    "            \"Medellín\": 380,\n",
    "            \"Cali\": 562,\n",
    "            \"Barranquilla\":166 }\n",
    "\n",
    "area = pd.Series(dic_area)\n",
    "area"
   ]
  },
  {
   "cell_type": "code",
   "execution_count": null,
   "metadata": {},
   "outputs": [],
   "source": [
    "ciudades = pd.DataFrame({\"Población\": poblacion, \"Área\": area})\n",
    "ciudades"
   ]
  },
  {
   "cell_type": "code",
   "execution_count": null,
   "metadata": {},
   "outputs": [],
   "source": [
    "ciudades.index"
   ]
  },
  {
   "cell_type": "code",
   "execution_count": null,
   "metadata": {},
   "outputs": [],
   "source": [
    "ciudades.columns"
   ]
  },
  {
   "cell_type": "code",
   "execution_count": null,
   "metadata": {},
   "outputs": [],
   "source": [
    "ciudades[\"Población\"]"
   ]
  },
  {
   "cell_type": "code",
   "execution_count": null,
   "metadata": {},
   "outputs": [],
   "source": [
    "type(ciudades[\"Población\"])"
   ]
  },
  {
   "cell_type": "markdown",
   "metadata": {},
   "source": [
    "### Creación de DataFrames\n",
    "Los DataFrames se pueden crear de varias formas"
   ]
  },
  {
   "cell_type": "code",
   "execution_count": null,
   "metadata": {},
   "outputs": [],
   "source": [
    "# Crear DataFrame desde un objeto Serie\n",
    "pd.DataFrame(poblacion, columns=['Población'])"
   ]
  },
  {
   "cell_type": "code",
   "execution_count": null,
   "metadata": {},
   "outputs": [],
   "source": [
    "# Crear DataFrame desde diccionarios\n",
    "pd.DataFrame([{'a': 1, 'b': 2, 'c': 3}, {'a': 2, 'b': 3, 'c': 4}])"
   ]
  },
  {
   "cell_type": "code",
   "execution_count": null,
   "metadata": {},
   "outputs": [],
   "source": [
    "# Inclusive si hay algunos datos faltantes, Pandas creará del DataFrame con Nan (Not a Number) en los datos faltantes\n",
    "pd.DataFrame([{'a': 1, 'b': 2}, {'b': 3, 'c': 4}])"
   ]
  },
  {
   "cell_type": "code",
   "execution_count": null,
   "metadata": {},
   "outputs": [],
   "source": [
    "# Desde un diccionario de objetos Series\n",
    "ciudades = pd.DataFrame({\"Población\": poblacion, \"Área (km2)\": area})\n",
    "ciudades"
   ]
  },
  {
   "cell_type": "code",
   "execution_count": null,
   "metadata": {},
   "outputs": [],
   "source": [
    "# Desde un array Numpy bidimensional\n",
    "\n",
    "pd.DataFrame(np.random.rand(3, 2),\n",
    "             columns=['x', 'y'],\n",
    "             index=['a', 'b', 'c'])"
   ]
  },
  {
   "cell_type": "markdown",
   "metadata": {},
   "source": [
    "#### Crear DataFrame desde un archivo\n",
    "Pandas ofrece funciones para importar archivos de texto plano, csv, excel"
   ]
  },
  {
   "cell_type": "code",
   "execution_count": 10,
   "metadata": {},
   "outputs": [
    {
     "data": {
      "text/html": [
       "<div>\n",
       "<style>\n",
       "    .dataframe thead tr:only-child th {\n",
       "        text-align: right;\n",
       "    }\n",
       "\n",
       "    .dataframe thead th {\n",
       "        text-align: left;\n",
       "    }\n",
       "\n",
       "    .dataframe tbody tr th {\n",
       "        vertical-align: top;\n",
       "    }\n",
       "</style>\n",
       "<table border=\"1\" class=\"dataframe\">\n",
       "  <thead>\n",
       "    <tr style=\"text-align: right;\">\n",
       "      <th></th>\n",
       "      <th>Subzona</th>\n",
       "      <th>precios</th>\n",
       "      <th>estrato</th>\n",
       "      <th>area</th>\n",
       "      <th>alcobas</th>\n",
       "      <th>baños</th>\n",
       "      <th>parqueadero</th>\n",
       "      <th>Long_com_corr</th>\n",
       "      <th>parques</th>\n",
       "      <th>vias</th>\n",
       "      <th>remocion_masa</th>\n",
       "      <th>grandes_superficies</th>\n",
       "      <th>colegios</th>\n",
       "      <th>hospitales</th>\n",
       "    </tr>\n",
       "  </thead>\n",
       "  <tbody>\n",
       "    <tr>\n",
       "      <th>0</th>\n",
       "      <td>Rosales</td>\n",
       "      <td>16.364833</td>\n",
       "      <td>5.921512</td>\n",
       "      <td>177.315698</td>\n",
       "      <td>2.672965</td>\n",
       "      <td>3.776163</td>\n",
       "      <td>2.981105</td>\n",
       "      <td>15.762355</td>\n",
       "      <td>530.287053</td>\n",
       "      <td>114.399907</td>\n",
       "      <td>210.171244</td>\n",
       "      <td>0</td>\n",
       "      <td>0</td>\n",
       "      <td>0</td>\n",
       "    </tr>\n",
       "    <tr>\n",
       "      <th>1</th>\n",
       "      <td>Chico</td>\n",
       "      <td>13.939057</td>\n",
       "      <td>5.905213</td>\n",
       "      <td>128.043839</td>\n",
       "      <td>2.225118</td>\n",
       "      <td>3.104660</td>\n",
       "      <td>2.152449</td>\n",
       "      <td>123.324578</td>\n",
       "      <td>524.939948</td>\n",
       "      <td>234.495011</td>\n",
       "      <td>540.272909</td>\n",
       "      <td>17</td>\n",
       "      <td>0</td>\n",
       "      <td>0</td>\n",
       "    </tr>\n",
       "    <tr>\n",
       "      <th>2</th>\n",
       "      <td>Bosque Medina</td>\n",
       "      <td>10.751194</td>\n",
       "      <td>4.699140</td>\n",
       "      <td>151.226361</td>\n",
       "      <td>2.532951</td>\n",
       "      <td>3.037249</td>\n",
       "      <td>2.467049</td>\n",
       "      <td>25.523559</td>\n",
       "      <td>688.125569</td>\n",
       "      <td>132.718385</td>\n",
       "      <td>411.765562</td>\n",
       "      <td>1</td>\n",
       "      <td>0</td>\n",
       "      <td>0</td>\n",
       "    </tr>\n",
       "    <tr>\n",
       "      <th>3</th>\n",
       "      <td>Multicentro</td>\n",
       "      <td>10.365171</td>\n",
       "      <td>5.647235</td>\n",
       "      <td>94.070728</td>\n",
       "      <td>2.086315</td>\n",
       "      <td>2.625469</td>\n",
       "      <td>1.785589</td>\n",
       "      <td>98.456376</td>\n",
       "      <td>554.446874</td>\n",
       "      <td>234.884578</td>\n",
       "      <td>610.978627</td>\n",
       "      <td>10</td>\n",
       "      <td>0</td>\n",
       "      <td>0</td>\n",
       "    </tr>\n",
       "    <tr>\n",
       "      <th>4</th>\n",
       "      <td>La Carolina</td>\n",
       "      <td>10.050658</td>\n",
       "      <td>5.390084</td>\n",
       "      <td>114.054818</td>\n",
       "      <td>2.179607</td>\n",
       "      <td>2.956034</td>\n",
       "      <td>1.985033</td>\n",
       "      <td>27.904729</td>\n",
       "      <td>630.037093</td>\n",
       "      <td>130.954436</td>\n",
       "      <td>335.558966</td>\n",
       "      <td>0</td>\n",
       "      <td>1</td>\n",
       "      <td>0</td>\n",
       "    </tr>\n",
       "    <tr>\n",
       "      <th>5</th>\n",
       "      <td>Pablo VI</td>\n",
       "      <td>9.588879</td>\n",
       "      <td>4.630769</td>\n",
       "      <td>94.822308</td>\n",
       "      <td>2.476923</td>\n",
       "      <td>2.607692</td>\n",
       "      <td>1.446154</td>\n",
       "      <td>35.842463</td>\n",
       "      <td>1617.648390</td>\n",
       "      <td>179.138057</td>\n",
       "      <td>1599.640396</td>\n",
       "      <td>7</td>\n",
       "      <td>3</td>\n",
       "      <td>1</td>\n",
       "    </tr>\n",
       "    <tr>\n",
       "      <th>6</th>\n",
       "      <td>Centro</td>\n",
       "      <td>9.504144</td>\n",
       "      <td>3.195473</td>\n",
       "      <td>63.382613</td>\n",
       "      <td>1.743827</td>\n",
       "      <td>1.799383</td>\n",
       "      <td>0.987654</td>\n",
       "      <td>141.055920</td>\n",
       "      <td>485.081173</td>\n",
       "      <td>252.861646</td>\n",
       "      <td>1570.788568</td>\n",
       "      <td>128</td>\n",
       "      <td>24</td>\n",
       "      <td>9</td>\n",
       "    </tr>\n",
       "    <tr>\n",
       "      <th>7</th>\n",
       "      <td>Colinas de Suba</td>\n",
       "      <td>9.342163</td>\n",
       "      <td>5.639469</td>\n",
       "      <td>212.210436</td>\n",
       "      <td>3.049336</td>\n",
       "      <td>3.848197</td>\n",
       "      <td>3.138520</td>\n",
       "      <td>5.711240</td>\n",
       "      <td>1424.357194</td>\n",
       "      <td>88.110061</td>\n",
       "      <td>362.545973</td>\n",
       "      <td>1</td>\n",
       "      <td>0</td>\n",
       "      <td>0</td>\n",
       "    </tr>\n",
       "    <tr>\n",
       "      <th>8</th>\n",
       "      <td>Chapinero</td>\n",
       "      <td>8.681093</td>\n",
       "      <td>3.738265</td>\n",
       "      <td>74.125747</td>\n",
       "      <td>1.773826</td>\n",
       "      <td>1.960171</td>\n",
       "      <td>1.251778</td>\n",
       "      <td>88.471722</td>\n",
       "      <td>968.019424</td>\n",
       "      <td>192.624319</td>\n",
       "      <td>541.919511</td>\n",
       "      <td>15</td>\n",
       "      <td>7</td>\n",
       "      <td>2</td>\n",
       "    </tr>\n",
       "    <tr>\n",
       "      <th>9</th>\n",
       "      <td>Córdoba</td>\n",
       "      <td>8.602316</td>\n",
       "      <td>4.909672</td>\n",
       "      <td>84.037135</td>\n",
       "      <td>2.155109</td>\n",
       "      <td>2.302920</td>\n",
       "      <td>1.655110</td>\n",
       "      <td>56.866181</td>\n",
       "      <td>926.342471</td>\n",
       "      <td>205.840416</td>\n",
       "      <td>724.234670</td>\n",
       "      <td>9</td>\n",
       "      <td>2</td>\n",
       "      <td>0</td>\n",
       "    </tr>\n",
       "    <tr>\n",
       "      <th>10</th>\n",
       "      <td>Teusaquillo</td>\n",
       "      <td>8.031767</td>\n",
       "      <td>3.771930</td>\n",
       "      <td>66.117895</td>\n",
       "      <td>1.768421</td>\n",
       "      <td>2.143860</td>\n",
       "      <td>1.129825</td>\n",
       "      <td>231.037199</td>\n",
       "      <td>270.797672</td>\n",
       "      <td>281.005659</td>\n",
       "      <td>771.042069</td>\n",
       "      <td>14</td>\n",
       "      <td>6</td>\n",
       "      <td>2</td>\n",
       "    </tr>\n",
       "    <tr>\n",
       "      <th>11</th>\n",
       "      <td>Los Andes</td>\n",
       "      <td>7.723087</td>\n",
       "      <td>3.808664</td>\n",
       "      <td>98.613718</td>\n",
       "      <td>2.588448</td>\n",
       "      <td>2.527076</td>\n",
       "      <td>1.310469</td>\n",
       "      <td>123.833525</td>\n",
       "      <td>1518.114478</td>\n",
       "      <td>229.031661</td>\n",
       "      <td>1358.048242</td>\n",
       "      <td>11</td>\n",
       "      <td>37</td>\n",
       "      <td>6</td>\n",
       "    </tr>\n",
       "    <tr>\n",
       "      <th>12</th>\n",
       "      <td>Cedritos</td>\n",
       "      <td>7.679327</td>\n",
       "      <td>4.261869</td>\n",
       "      <td>78.574184</td>\n",
       "      <td>2.115232</td>\n",
       "      <td>2.360534</td>\n",
       "      <td>1.650099</td>\n",
       "      <td>49.431007</td>\n",
       "      <td>658.100184</td>\n",
       "      <td>204.526227</td>\n",
       "      <td>553.153325</td>\n",
       "      <td>22</td>\n",
       "      <td>1</td>\n",
       "      <td>0</td>\n",
       "    </tr>\n",
       "    <tr>\n",
       "      <th>13</th>\n",
       "      <td>Colina camp.</td>\n",
       "      <td>7.233064</td>\n",
       "      <td>4.272861</td>\n",
       "      <td>98.858997</td>\n",
       "      <td>2.657817</td>\n",
       "      <td>2.390855</td>\n",
       "      <td>1.663717</td>\n",
       "      <td>49.643434</td>\n",
       "      <td>792.020285</td>\n",
       "      <td>180.054342</td>\n",
       "      <td>500.261663</td>\n",
       "      <td>6</td>\n",
       "      <td>4</td>\n",
       "      <td>0</td>\n",
       "    </tr>\n",
       "    <tr>\n",
       "      <th>14</th>\n",
       "      <td>Mazuren</td>\n",
       "      <td>6.785028</td>\n",
       "      <td>3.874433</td>\n",
       "      <td>97.018759</td>\n",
       "      <td>2.674735</td>\n",
       "      <td>2.531014</td>\n",
       "      <td>1.506808</td>\n",
       "      <td>21.919553</td>\n",
       "      <td>513.686102</td>\n",
       "      <td>105.932512</td>\n",
       "      <td>1325.426236</td>\n",
       "      <td>9</td>\n",
       "      <td>5</td>\n",
       "      <td>0</td>\n",
       "    </tr>\n",
       "    <tr>\n",
       "      <th>15</th>\n",
       "      <td>Atabanza</td>\n",
       "      <td>6.328127</td>\n",
       "      <td>3.037267</td>\n",
       "      <td>64.970497</td>\n",
       "      <td>2.388199</td>\n",
       "      <td>1.869565</td>\n",
       "      <td>1.055901</td>\n",
       "      <td>103.812470</td>\n",
       "      <td>681.903734</td>\n",
       "      <td>181.873372</td>\n",
       "      <td>311.058293</td>\n",
       "      <td>3</td>\n",
       "      <td>2</td>\n",
       "      <td>1</td>\n",
       "    </tr>\n",
       "    <tr>\n",
       "      <th>16</th>\n",
       "      <td>Modelia</td>\n",
       "      <td>5.947777</td>\n",
       "      <td>3.562691</td>\n",
       "      <td>74.035474</td>\n",
       "      <td>2.828746</td>\n",
       "      <td>2.067278</td>\n",
       "      <td>1.070336</td>\n",
       "      <td>46.035661</td>\n",
       "      <td>727.235487</td>\n",
       "      <td>195.706210</td>\n",
       "      <td>851.974917</td>\n",
       "      <td>6</td>\n",
       "      <td>2</td>\n",
       "      <td>0</td>\n",
       "    </tr>\n",
       "    <tr>\n",
       "      <th>17</th>\n",
       "      <td>Min. Dios</td>\n",
       "      <td>5.748105</td>\n",
       "      <td>3.375000</td>\n",
       "      <td>53.461458</td>\n",
       "      <td>2.130208</td>\n",
       "      <td>1.614583</td>\n",
       "      <td>0.921875</td>\n",
       "      <td>96.948415</td>\n",
       "      <td>678.026753</td>\n",
       "      <td>238.046281</td>\n",
       "      <td>604.180496</td>\n",
       "      <td>1</td>\n",
       "      <td>16</td>\n",
       "      <td>2</td>\n",
       "    </tr>\n",
       "    <tr>\n",
       "      <th>18</th>\n",
       "      <td>Maranta</td>\n",
       "      <td>5.676626</td>\n",
       "      <td>3.475538</td>\n",
       "      <td>78.067025</td>\n",
       "      <td>2.818004</td>\n",
       "      <td>2.078278</td>\n",
       "      <td>1.123924</td>\n",
       "      <td>55.723667</td>\n",
       "      <td>482.964739</td>\n",
       "      <td>164.668663</td>\n",
       "      <td>1675.184260</td>\n",
       "      <td>12</td>\n",
       "      <td>22</td>\n",
       "      <td>8</td>\n",
       "    </tr>\n",
       "    <tr>\n",
       "      <th>19</th>\n",
       "      <td>C/marca</td>\n",
       "      <td>5.608747</td>\n",
       "      <td>3.048193</td>\n",
       "      <td>68.559036</td>\n",
       "      <td>2.783133</td>\n",
       "      <td>1.963855</td>\n",
       "      <td>1.000000</td>\n",
       "      <td>91.377489</td>\n",
       "      <td>497.198558</td>\n",
       "      <td>231.243102</td>\n",
       "      <td>1298.549149</td>\n",
       "      <td>67</td>\n",
       "      <td>18</td>\n",
       "      <td>4</td>\n",
       "    </tr>\n",
       "    <tr>\n",
       "      <th>20</th>\n",
       "      <td>Campiña</td>\n",
       "      <td>4.980961</td>\n",
       "      <td>3.115288</td>\n",
       "      <td>70.429825</td>\n",
       "      <td>2.625313</td>\n",
       "      <td>1.967419</td>\n",
       "      <td>0.994271</td>\n",
       "      <td>78.477791</td>\n",
       "      <td>533.039077</td>\n",
       "      <td>191.821118</td>\n",
       "      <td>1356.292041</td>\n",
       "      <td>15</td>\n",
       "      <td>24</td>\n",
       "      <td>4</td>\n",
       "    </tr>\n",
       "    <tr>\n",
       "      <th>21</th>\n",
       "      <td>Américas</td>\n",
       "      <td>4.961391</td>\n",
       "      <td>3.106262</td>\n",
       "      <td>68.398672</td>\n",
       "      <td>2.823529</td>\n",
       "      <td>2.009488</td>\n",
       "      <td>0.964410</td>\n",
       "      <td>76.044657</td>\n",
       "      <td>727.914490</td>\n",
       "      <td>225.925735</td>\n",
       "      <td>889.505808</td>\n",
       "      <td>4</td>\n",
       "      <td>10</td>\n",
       "      <td>3</td>\n",
       "    </tr>\n",
       "    <tr>\n",
       "      <th>22</th>\n",
       "      <td>Bochica</td>\n",
       "      <td>4.948221</td>\n",
       "      <td>3.109797</td>\n",
       "      <td>71.270101</td>\n",
       "      <td>2.842905</td>\n",
       "      <td>2.037162</td>\n",
       "      <td>1.036564</td>\n",
       "      <td>78.854417</td>\n",
       "      <td>720.990348</td>\n",
       "      <td>194.725583</td>\n",
       "      <td>2148.244132</td>\n",
       "      <td>6</td>\n",
       "      <td>28</td>\n",
       "      <td>9</td>\n",
       "    </tr>\n",
       "    <tr>\n",
       "      <th>23</th>\n",
       "      <td>Kennedy</td>\n",
       "      <td>4.907356</td>\n",
       "      <td>3.575000</td>\n",
       "      <td>66.239167</td>\n",
       "      <td>2.933333</td>\n",
       "      <td>1.766667</td>\n",
       "      <td>0.848583</td>\n",
       "      <td>111.462884</td>\n",
       "      <td>947.334990</td>\n",
       "      <td>263.153706</td>\n",
       "      <td>1786.839488</td>\n",
       "      <td>8</td>\n",
       "      <td>40</td>\n",
       "      <td>10</td>\n",
       "    </tr>\n",
       "    <tr>\n",
       "      <th>24</th>\n",
       "      <td>Prim. Mayo</td>\n",
       "      <td>4.882920</td>\n",
       "      <td>2.920000</td>\n",
       "      <td>61.610667</td>\n",
       "      <td>2.346667</td>\n",
       "      <td>1.800000</td>\n",
       "      <td>0.719947</td>\n",
       "      <td>134.047701</td>\n",
       "      <td>693.263902</td>\n",
       "      <td>283.407686</td>\n",
       "      <td>1019.906113</td>\n",
       "      <td>12</td>\n",
       "      <td>31</td>\n",
       "      <td>4</td>\n",
       "    </tr>\n",
       "    <tr>\n",
       "      <th>25</th>\n",
       "      <td>Tibabuyes</td>\n",
       "      <td>4.368835</td>\n",
       "      <td>2.469136</td>\n",
       "      <td>61.361728</td>\n",
       "      <td>2.691358</td>\n",
       "      <td>1.879012</td>\n",
       "      <td>0.678030</td>\n",
       "      <td>86.539268</td>\n",
       "      <td>754.363761</td>\n",
       "      <td>211.089148</td>\n",
       "      <td>1062.693876</td>\n",
       "      <td>3</td>\n",
       "      <td>14</td>\n",
       "      <td>4</td>\n",
       "    </tr>\n",
       "    <tr>\n",
       "      <th>26</th>\n",
       "      <td>Auto Sur</td>\n",
       "      <td>4.191937</td>\n",
       "      <td>2.804878</td>\n",
       "      <td>61.674797</td>\n",
       "      <td>2.739837</td>\n",
       "      <td>1.837398</td>\n",
       "      <td>0.869854</td>\n",
       "      <td>87.634919</td>\n",
       "      <td>1104.309322</td>\n",
       "      <td>263.763152</td>\n",
       "      <td>2088.795281</td>\n",
       "      <td>7</td>\n",
       "      <td>65</td>\n",
       "      <td>13</td>\n",
       "    </tr>\n",
       "    <tr>\n",
       "      <th>27</th>\n",
       "      <td>Central ab.</td>\n",
       "      <td>4.187017</td>\n",
       "      <td>2.924205</td>\n",
       "      <td>65.523472</td>\n",
       "      <td>2.777506</td>\n",
       "      <td>1.894866</td>\n",
       "      <td>0.920816</td>\n",
       "      <td>115.632145</td>\n",
       "      <td>992.853960</td>\n",
       "      <td>257.354671</td>\n",
       "      <td>2057.079128</td>\n",
       "      <td>10</td>\n",
       "      <td>49</td>\n",
       "      <td>8</td>\n",
       "    </tr>\n",
       "    <tr>\n",
       "      <th>28</th>\n",
       "      <td>Fontibón</td>\n",
       "      <td>3.690468</td>\n",
       "      <td>2.702703</td>\n",
       "      <td>59.585586</td>\n",
       "      <td>2.585586</td>\n",
       "      <td>1.576577</td>\n",
       "      <td>0.285099</td>\n",
       "      <td>43.758786</td>\n",
       "      <td>408.117822</td>\n",
       "      <td>130.437561</td>\n",
       "      <td>1890.801007</td>\n",
       "      <td>6</td>\n",
       "      <td>18</td>\n",
       "      <td>6</td>\n",
       "    </tr>\n",
       "    <tr>\n",
       "      <th>29</th>\n",
       "      <td>Tunjuelito</td>\n",
       "      <td>3.199884</td>\n",
       "      <td>3.000000</td>\n",
       "      <td>41.368421</td>\n",
       "      <td>2.342105</td>\n",
       "      <td>1.026316</td>\n",
       "      <td>0.289474</td>\n",
       "      <td>50.815934</td>\n",
       "      <td>264.806635</td>\n",
       "      <td>227.131696</td>\n",
       "      <td>1528.582827</td>\n",
       "      <td>1</td>\n",
       "      <td>34</td>\n",
       "      <td>9</td>\n",
       "    </tr>\n",
       "    <tr>\n",
       "      <th>30</th>\n",
       "      <td>20 de julio</td>\n",
       "      <td>3.095693</td>\n",
       "      <td>2.646341</td>\n",
       "      <td>50.700000</td>\n",
       "      <td>2.378049</td>\n",
       "      <td>1.329268</td>\n",
       "      <td>0.326024</td>\n",
       "      <td>58.304275</td>\n",
       "      <td>720.696346</td>\n",
       "      <td>243.238419</td>\n",
       "      <td>5181.662764</td>\n",
       "      <td>10</td>\n",
       "      <td>129</td>\n",
       "      <td>29</td>\n",
       "    </tr>\n",
       "    <tr>\n",
       "      <th>31</th>\n",
       "      <td>Ciudad Verde</td>\n",
       "      <td>2.202857</td>\n",
       "      <td>3.000000</td>\n",
       "      <td>55.628184</td>\n",
       "      <td>2.794038</td>\n",
       "      <td>1.094851</td>\n",
       "      <td>0.309051</td>\n",
       "      <td>25.541590</td>\n",
       "      <td>179.945129</td>\n",
       "      <td>80.740842</td>\n",
       "      <td>3603.532163</td>\n",
       "      <td>5</td>\n",
       "      <td>29</td>\n",
       "      <td>10</td>\n",
       "    </tr>\n",
       "  </tbody>\n",
       "</table>\n",
       "</div>"
      ],
      "text/plain": [
       "            Subzona    precios   estrato        area   alcobas     baños  \\\n",
       "0           Rosales  16.364833  5.921512  177.315698  2.672965  3.776163   \n",
       "1            Chico   13.939057  5.905213  128.043839  2.225118  3.104660   \n",
       "2     Bosque Medina  10.751194  4.699140  151.226361  2.532951  3.037249   \n",
       "3       Multicentro  10.365171  5.647235   94.070728  2.086315  2.625469   \n",
       "4       La Carolina  10.050658  5.390084  114.054818  2.179607  2.956034   \n",
       "5          Pablo VI   9.588879  4.630769   94.822308  2.476923  2.607692   \n",
       "6            Centro   9.504144  3.195473   63.382613  1.743827  1.799383   \n",
       "7   Colinas de Suba   9.342163  5.639469  212.210436  3.049336  3.848197   \n",
       "8         Chapinero   8.681093  3.738265   74.125747  1.773826  1.960171   \n",
       "9           Córdoba   8.602316  4.909672   84.037135  2.155109  2.302920   \n",
       "10      Teusaquillo   8.031767  3.771930   66.117895  1.768421  2.143860   \n",
       "11        Los Andes   7.723087  3.808664   98.613718  2.588448  2.527076   \n",
       "12         Cedritos   7.679327  4.261869   78.574184  2.115232  2.360534   \n",
       "13     Colina camp.   7.233064  4.272861   98.858997  2.657817  2.390855   \n",
       "14          Mazuren   6.785028  3.874433   97.018759  2.674735  2.531014   \n",
       "15         Atabanza   6.328127  3.037267   64.970497  2.388199  1.869565   \n",
       "16          Modelia   5.947777  3.562691   74.035474  2.828746  2.067278   \n",
       "17        Min. Dios   5.748105  3.375000   53.461458  2.130208  1.614583   \n",
       "18          Maranta   5.676626  3.475538   78.067025  2.818004  2.078278   \n",
       "19          C/marca   5.608747  3.048193   68.559036  2.783133  1.963855   \n",
       "20          Campiña   4.980961  3.115288   70.429825  2.625313  1.967419   \n",
       "21        Américas    4.961391  3.106262   68.398672  2.823529  2.009488   \n",
       "22          Bochica   4.948221  3.109797   71.270101  2.842905  2.037162   \n",
       "23          Kennedy   4.907356  3.575000   66.239167  2.933333  1.766667   \n",
       "24       Prim. Mayo   4.882920  2.920000   61.610667  2.346667  1.800000   \n",
       "25        Tibabuyes   4.368835  2.469136   61.361728  2.691358  1.879012   \n",
       "26         Auto Sur   4.191937  2.804878   61.674797  2.739837  1.837398   \n",
       "27      Central ab.   4.187017  2.924205   65.523472  2.777506  1.894866   \n",
       "28         Fontibón   3.690468  2.702703   59.585586  2.585586  1.576577   \n",
       "29       Tunjuelito   3.199884  3.000000   41.368421  2.342105  1.026316   \n",
       "30      20 de julio   3.095693  2.646341   50.700000  2.378049  1.329268   \n",
       "31     Ciudad Verde   2.202857  3.000000   55.628184  2.794038  1.094851   \n",
       "\n",
       "    parqueadero  Long_com_corr      parques        vias  remocion_masa  \\\n",
       "0      2.981105      15.762355   530.287053  114.399907     210.171244   \n",
       "1      2.152449     123.324578   524.939948  234.495011     540.272909   \n",
       "2      2.467049      25.523559   688.125569  132.718385     411.765562   \n",
       "3      1.785589      98.456376   554.446874  234.884578     610.978627   \n",
       "4      1.985033      27.904729   630.037093  130.954436     335.558966   \n",
       "5      1.446154      35.842463  1617.648390  179.138057    1599.640396   \n",
       "6      0.987654     141.055920   485.081173  252.861646    1570.788568   \n",
       "7      3.138520       5.711240  1424.357194   88.110061     362.545973   \n",
       "8      1.251778      88.471722   968.019424  192.624319     541.919511   \n",
       "9      1.655110      56.866181   926.342471  205.840416     724.234670   \n",
       "10     1.129825     231.037199   270.797672  281.005659     771.042069   \n",
       "11     1.310469     123.833525  1518.114478  229.031661    1358.048242   \n",
       "12     1.650099      49.431007   658.100184  204.526227     553.153325   \n",
       "13     1.663717      49.643434   792.020285  180.054342     500.261663   \n",
       "14     1.506808      21.919553   513.686102  105.932512    1325.426236   \n",
       "15     1.055901     103.812470   681.903734  181.873372     311.058293   \n",
       "16     1.070336      46.035661   727.235487  195.706210     851.974917   \n",
       "17     0.921875      96.948415   678.026753  238.046281     604.180496   \n",
       "18     1.123924      55.723667   482.964739  164.668663    1675.184260   \n",
       "19     1.000000      91.377489   497.198558  231.243102    1298.549149   \n",
       "20     0.994271      78.477791   533.039077  191.821118    1356.292041   \n",
       "21     0.964410      76.044657   727.914490  225.925735     889.505808   \n",
       "22     1.036564      78.854417   720.990348  194.725583    2148.244132   \n",
       "23     0.848583     111.462884   947.334990  263.153706    1786.839488   \n",
       "24     0.719947     134.047701   693.263902  283.407686    1019.906113   \n",
       "25     0.678030      86.539268   754.363761  211.089148    1062.693876   \n",
       "26     0.869854      87.634919  1104.309322  263.763152    2088.795281   \n",
       "27     0.920816     115.632145   992.853960  257.354671    2057.079128   \n",
       "28     0.285099      43.758786   408.117822  130.437561    1890.801007   \n",
       "29     0.289474      50.815934   264.806635  227.131696    1528.582827   \n",
       "30     0.326024      58.304275   720.696346  243.238419    5181.662764   \n",
       "31     0.309051      25.541590   179.945129   80.740842    3603.532163   \n",
       "\n",
       "    grandes_superficies  colegios  hospitales  \n",
       "0                     0         0           0  \n",
       "1                    17         0           0  \n",
       "2                     1         0           0  \n",
       "3                    10         0           0  \n",
       "4                     0         1           0  \n",
       "5                     7         3           1  \n",
       "6                   128        24           9  \n",
       "7                     1         0           0  \n",
       "8                    15         7           2  \n",
       "9                     9         2           0  \n",
       "10                   14         6           2  \n",
       "11                   11        37           6  \n",
       "12                   22         1           0  \n",
       "13                    6         4           0  \n",
       "14                    9         5           0  \n",
       "15                    3         2           1  \n",
       "16                    6         2           0  \n",
       "17                    1        16           2  \n",
       "18                   12        22           8  \n",
       "19                   67        18           4  \n",
       "20                   15        24           4  \n",
       "21                    4        10           3  \n",
       "22                    6        28           9  \n",
       "23                    8        40          10  \n",
       "24                   12        31           4  \n",
       "25                    3        14           4  \n",
       "26                    7        65          13  \n",
       "27                   10        49           8  \n",
       "28                    6        18           6  \n",
       "29                    1        34           9  \n",
       "30                   10       129          29  \n",
       "31                    5        29          10  "
      ]
     },
     "execution_count": 10,
     "metadata": {},
     "output_type": "execute_result"
    }
   ],
   "source": [
    "import pandas as pd\n",
    "# precios_vivienda = pd.read_csv(\"data/Caracterizaci_n_precios_vivienda_nueva.csv\") # Datos locales\n",
    "precios_vivienda = pd.read_csv(\"https://raw.githubusercontent.com/javiercocu/intro-datascience/master/data/Caracterizaci_n_precios_vivienda_nueva.csv\")\n",
    "\n",
    "precios_vivienda"
   ]
  },
  {
   "cell_type": "code",
   "execution_count": null,
   "metadata": {},
   "outputs": [],
   "source": [
    "precios_vivienda = pd.read_csv(\"data/Caracterizaci_n_precios_vivienda_nueva.csv\", index_col = \"Subzona\")\n",
    "precios_vivienda"
   ]
  },
  {
   "cell_type": "markdown",
   "metadata": {},
   "source": [
    "## Selección e indexado"
   ]
  },
  {
   "cell_type": "markdown",
   "metadata": {},
   "source": [
    "### Selección de datos en Series"
   ]
  },
  {
   "cell_type": "code",
   "execution_count": null,
   "metadata": {},
   "outputs": [],
   "source": [
    "import pandas as pd\n",
    "datos = pd.Series([0.1, 0.2, 0.7, 1.0],\n",
    "                 index=['a', 'b', 'c', 'd'])\n",
    "datos"
   ]
  },
  {
   "cell_type": "code",
   "execution_count": null,
   "metadata": {},
   "outputs": [],
   "source": [
    "datos['b']"
   ]
  },
  {
   "cell_type": "code",
   "execution_count": null,
   "metadata": {},
   "outputs": [],
   "source": [
    "# Los datos en un objeto Series puede ser modificado accediendo a través del índice\n",
    "\n",
    "datos['d'] = 40\n",
    "\n",
    "datos"
   ]
  },
  {
   "cell_type": "code",
   "execution_count": null,
   "metadata": {},
   "outputs": [],
   "source": [
    "# Selección por Slicing\n",
    "\n",
    "datos[0:2]"
   ]
  },
  {
   "cell_type": "code",
   "execution_count": null,
   "metadata": {},
   "outputs": [],
   "source": [
    "datos['b':'c']"
   ]
  },
  {
   "cell_type": "code",
   "execution_count": null,
   "metadata": {},
   "outputs": [],
   "source": [
    "# Máscaras\n",
    "\n",
    "datos < 0.5"
   ]
  },
  {
   "cell_type": "code",
   "execution_count": null,
   "metadata": {},
   "outputs": [],
   "source": [
    "# Las máscaras se pueden usar para seleccionar datos\n",
    "\n",
    "datos[datos < 0.5]"
   ]
  },
  {
   "cell_type": "markdown",
   "metadata": {},
   "source": [
    "### Selección de datos en DataFrame"
   ]
  },
  {
   "cell_type": "code",
   "execution_count": null,
   "metadata": {},
   "outputs": [],
   "source": [
    "dic_poblacion = { \"Bogotá\": 8181047,\n",
    "             \"Medellín\": 2529403,\n",
    "             \"Cali\": 2445281,\n",
    "             \"Barranquilla\": 1232766 }\n",
    "\n",
    "dic_area = { \"Bogotá\": 1587,\n",
    "            \"Medellín\": 380,\n",
    "            \"Cali\": 562,\n",
    "            \"Barranquilla\":166 }\n",
    "ciudades = pd.DataFrame({\"Población\": poblacion, \"Área\": area})\n",
    "ciudades"
   ]
  },
  {
   "cell_type": "code",
   "execution_count": null,
   "metadata": {},
   "outputs": [],
   "source": [
    "# Seleccion de columna\n",
    "ciudades[\"Área\"]   # Una columna de un DataFrame es un objeto Series"
   ]
  },
  {
   "cell_type": "code",
   "execution_count": null,
   "metadata": {},
   "outputs": [],
   "source": [
    "ciudades.Área # Una columna de un DataFrame también es una propiedad del DataFrame"
   ]
  },
  {
   "cell_type": "code",
   "execution_count": null,
   "metadata": {},
   "outputs": [],
   "source": [
    "ciudades['densidad'] = ciudades['Población'] / ciudades['Área']\n",
    "ciudades"
   ]
  },
  {
   "cell_type": "code",
   "execution_count": null,
   "metadata": {},
   "outputs": [],
   "source": [
    "ciudades.values"
   ]
  },
  {
   "cell_type": "code",
   "execution_count": null,
   "metadata": {},
   "outputs": [],
   "source": [
    "ciudades.T"
   ]
  },
  {
   "cell_type": "code",
   "execution_count": null,
   "metadata": {},
   "outputs": [],
   "source": [
    "ciudades.values[0]"
   ]
  },
  {
   "cell_type": "code",
   "execution_count": null,
   "metadata": {},
   "outputs": [],
   "source": [
    "ciudades"
   ]
  },
  {
   "cell_type": "code",
   "execution_count": null,
   "metadata": {},
   "outputs": [],
   "source": [
    "ciudades.loc[\"Cali\"]   # loc se usa para seleccionar por valor del índice"
   ]
  },
  {
   "cell_type": "code",
   "execution_count": null,
   "metadata": {},
   "outputs": [],
   "source": [
    "ciudades.loc[\"Bogotá\":\"Medellín\"]"
   ]
  },
  {
   "cell_type": "code",
   "execution_count": null,
   "metadata": {},
   "outputs": [],
   "source": [
    "ciudades.loc[[\"Cali\",\"Barranquilla\"]]"
   ]
  },
  {
   "cell_type": "code",
   "execution_count": null,
   "metadata": {},
   "outputs": [],
   "source": [
    "ciudades.iloc[0:2]   #iloc se usa para seleccionar por número de índice"
   ]
  },
  {
   "cell_type": "code",
   "execution_count": null,
   "metadata": {},
   "outputs": [],
   "source": [
    "ciudades[\"Población\"] > 2500000   # Creación de máscaras"
   ]
  },
  {
   "cell_type": "code",
   "execution_count": null,
   "metadata": {},
   "outputs": [],
   "source": [
    "ciudades[ ciudades[\"Población\"] > 2500000 ]  #Uso de máscara para selección"
   ]
  },
  {
   "cell_type": "code",
   "execution_count": null,
   "metadata": {},
   "outputs": [],
   "source": [
    "ciudades[ ciudades.Área < 500 ]"
   ]
  },
  {
   "cell_type": "markdown",
   "metadata": {},
   "source": [
    "## Manejando data faltante"
   ]
  },
  {
   "cell_type": "markdown",
   "metadata": {},
   "source": [
    "La data obtenida en los datasets reales suele tener datos faltantes o corruptos. Pandas nos puede ayudar con el manejo de estos datos faltantes"
   ]
  },
  {
   "cell_type": "code",
   "execution_count": null,
   "metadata": {},
   "outputs": [],
   "source": [
    "falt1 = np.array([1, None, 3, 4])    #None es un tipo de objeto especial en Python que se usa para datos faltantes\n",
    "falt1 # En este caso el typo de variable del arreglo es object"
   ]
  },
  {
   "cell_type": "code",
   "execution_count": null,
   "metadata": {},
   "outputs": [],
   "source": [
    "falt1.sum()"
   ]
  },
  {
   "cell_type": "code",
   "execution_count": null,
   "metadata": {},
   "outputs": [],
   "source": [
    "falt2 = np.array([1, np.nan, 3, 4]) #NaN (Not a number) es un valor especial de tipo flotante \n",
    "falt2.dtype  # El tipo de variable en este arreglo es float"
   ]
  },
  {
   "cell_type": "markdown",
   "metadata": {},
   "source": [
    "Aunque no genera un error en ejecución, las operaciones estándar de mnumpy con datos nan retornan nan"
   ]
  },
  {
   "cell_type": "code",
   "execution_count": null,
   "metadata": {},
   "outputs": [],
   "source": [
    "falt2.sum()  "
   ]
  },
  {
   "cell_type": "markdown",
   "metadata": {},
   "source": [
    "Numpy provee funciones especiales de agregación que no se afectan por datos nan"
   ]
  },
  {
   "cell_type": "code",
   "execution_count": null,
   "metadata": {},
   "outputs": [],
   "source": [
    "np.nansum(falt2), np.nanmin(falt2), np.nanmax(falt2), np.nanmean(falt2), np.nanstd(falt2)"
   ]
  },
  {
   "cell_type": "markdown",
   "metadata": {},
   "source": [
    "### NaN y None en Pandas\n",
    "Pandas maneja NaN y None en Pandas de manera conveniente"
   ]
  },
  {
   "cell_type": "code",
   "execution_count": null,
   "metadata": {},
   "outputs": [],
   "source": [
    "a = pd.Series([1, 2, None, 4, np.nan])\n",
    "a"
   ]
  },
  {
   "cell_type": "code",
   "execution_count": null,
   "metadata": {},
   "outputs": [],
   "source": [
    "b = pd.Series([0, 1, 2, 3, 4, 5, 6, 7, 8, 9, 0])\n",
    "b"
   ]
  },
  {
   "cell_type": "code",
   "execution_count": null,
   "metadata": {},
   "outputs": [],
   "source": [
    "b[5] = None\n",
    "b"
   ]
  },
  {
   "cell_type": "markdown",
   "metadata": {},
   "source": [
    "### Detectando valores faltantes en Pandas\n",
    "Pandas provee las funciones `isnull()` y `notnull()` para detección de datos faltantes"
   ]
  },
  {
   "cell_type": "code",
   "execution_count": null,
   "metadata": {},
   "outputs": [],
   "source": [
    "c = pd.Series([\"hola\", 15, np.nan, \"mundo\", None])\n",
    "c"
   ]
  },
  {
   "cell_type": "code",
   "execution_count": null,
   "metadata": {},
   "outputs": [],
   "source": [
    "c.isnull()"
   ]
  },
  {
   "cell_type": "code",
   "execution_count": null,
   "metadata": {},
   "outputs": [],
   "source": [
    "c[c.notnull()]"
   ]
  },
  {
   "cell_type": "markdown",
   "metadata": {},
   "source": [
    "#### Eliminar datos faltantes"
   ]
  },
  {
   "cell_type": "code",
   "execution_count": null,
   "metadata": {},
   "outputs": [],
   "source": [
    "c = c.dropna()\n",
    "c"
   ]
  },
  {
   "cell_type": "markdown",
   "metadata": {},
   "source": [
    "En el caso de DataFrames, existen más opciones para eleminar datos faltantes, se pueden eliminar filas o columnas complentas que contengan datos faltantes"
   ]
  },
  {
   "cell_type": "code",
   "execution_count": null,
   "metadata": {},
   "outputs": [],
   "source": [
    "df = pd.DataFrame([[1,      2, np.nan],\n",
    "                   [4,      5,      6],\n",
    "                   [np.nan, 8,      9]])\n",
    "df"
   ]
  },
  {
   "cell_type": "markdown",
   "metadata": {},
   "source": [
    "Eliminar filas que contengan uno o más datos faltantes"
   ]
  },
  {
   "cell_type": "code",
   "execution_count": null,
   "metadata": {},
   "outputs": [],
   "source": [
    "df.dropna()    # Eliminar filas que contengan datos faltantes"
   ]
  },
  {
   "cell_type": "markdown",
   "metadata": {},
   "source": [
    "Eliminar columnas que contengan uno o mas datos faltantes"
   ]
  },
  {
   "cell_type": "code",
   "execution_count": null,
   "metadata": {},
   "outputs": [],
   "source": [
    "df.dropna(axis='columns')    # Eliminar columnas que contengan uno o mas datos faltantes"
   ]
  },
  {
   "cell_type": "markdown",
   "metadata": {},
   "source": [
    "Eliminar filas que contengan todos los datos faltantes"
   ]
  },
  {
   "cell_type": "code",
   "execution_count": null,
   "metadata": {},
   "outputs": [],
   "source": [
    "df = pd.DataFrame([[np.nan, np.nan, np.nan],\n",
    "                   [4,         5,        6],\n",
    "                   [np.nan,    8,        9]])\n",
    "df"
   ]
  },
  {
   "cell_type": "code",
   "execution_count": null,
   "metadata": {},
   "outputs": [],
   "source": [
    "df.dropna(how='all')"
   ]
  },
  {
   "cell_type": "markdown",
   "metadata": {},
   "source": [
    "También se puede especificar una cantidad máxima de datos faltantes para que no se elimine la fila o columna"
   ]
  },
  {
   "cell_type": "code",
   "execution_count": null,
   "metadata": {},
   "outputs": [],
   "source": [
    "df = pd.DataFrame([[np.nan, np.nan, np.nan],\n",
    "                   [4,      np.nan,      6],\n",
    "                   [np.nan,    8,   np.nan],\n",
    "                   [np.nan,   10,   np.nan],\n",
    "                   [np.nan,    8,        9]])\n",
    "df"
   ]
  },
  {
   "cell_type": "code",
   "execution_count": null,
   "metadata": {},
   "outputs": [],
   "source": [
    "df.dropna(axis = 'columns', thresh = 2)"
   ]
  },
  {
   "cell_type": "code",
   "execution_count": null,
   "metadata": {},
   "outputs": [],
   "source": [
    "df.dropna(axis = 'rows', thresh = 2)"
   ]
  },
  {
   "cell_type": "markdown",
   "metadata": {},
   "source": [
    "#### Llenar datos faltantes"
   ]
  },
  {
   "cell_type": "code",
   "execution_count": null,
   "metadata": {},
   "outputs": [],
   "source": [
    "df = pd.DataFrame([[np.nan, np.nan, np.nan],\n",
    "                   [4,      np.nan,      6],\n",
    "                   [np.nan,    8,   np.nan],\n",
    "                   [np.nan,   10,   np.nan],\n",
    "                   [np.nan,    8,        9]])\n",
    "df"
   ]
  },
  {
   "cell_type": "code",
   "execution_count": null,
   "metadata": {},
   "outputs": [],
   "source": [
    "df.fillna(10)"
   ]
  },
  {
   "cell_type": "code",
   "execution_count": null,
   "metadata": {},
   "outputs": [],
   "source": [
    "df.fillna(method='ffill', axis=1)  # ffill o Forwardfill Hace un llenado del dato faltante hacia adelante"
   ]
  },
  {
   "cell_type": "code",
   "execution_count": null,
   "metadata": {},
   "outputs": [],
   "source": [
    "df = pd.DataFrame([[np.nan, np.nan, np.nan],\n",
    "                   [4,      np.nan,      6],\n",
    "                   [np.nan,    8,   np.nan],\n",
    "                   [np.nan,   10,   np.nan],\n",
    "                   [np.nan,    8,        9]])\n",
    "df"
   ]
  },
  {
   "cell_type": "code",
   "execution_count": null,
   "metadata": {},
   "outputs": [],
   "source": [
    "df.fillna(method='bfill', axis=0) # bfill o BackFill Hace un llenado del dato faltante hacia atrás"
   ]
  },
  {
   "cell_type": "markdown",
   "metadata": {},
   "source": [
    "# Ejercicio\n",
    "* Cargar el Dataset \"https://raw.githubusercontent.com/javiercocu/intro-datascience/master/data/titanic.csv en un DataFrame con la funcion pd.read_csv()\n",
    "* Detectar datos faltantes en las diferentes columnas por medio de la función isnull()\n",
    "* Calcular el valor medio de las edades con la funcin nanmean()\n",
    "* Llenar los datos faltantes de edad con el resultado de la media"
   ]
  },
  {
   "cell_type": "code",
   "execution_count": 8,
   "metadata": {},
   "outputs": [],
   "source": [
    "### Celda para Completar Ejercicio"
   ]
  },
  {
   "cell_type": "code",
   "execution_count": null,
   "metadata": {},
   "outputs": [],
   "source": []
  },
  {
   "cell_type": "code",
   "execution_count": null,
   "metadata": {},
   "outputs": [],
   "source": []
  }
 ],
 "metadata": {
  "kernelspec": {
   "display_name": "Python 3",
   "language": "python",
   "name": "python3"
  },
  "language_info": {
   "codemirror_mode": {
    "name": "ipython",
    "version": 3
   },
   "file_extension": ".py",
   "mimetype": "text/x-python",
   "name": "python",
   "nbconvert_exporter": "python",
   "pygments_lexer": "ipython3",
   "version": "3.6.2"
  }
 },
 "nbformat": 4,
 "nbformat_minor": 2
}
