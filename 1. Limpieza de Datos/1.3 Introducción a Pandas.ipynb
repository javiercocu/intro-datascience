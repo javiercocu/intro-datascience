{
 "cells": [
  {
   "cell_type": "markdown",
   "metadata": {},
   "source": [
    "# Pandas\n",
    "Pandas es una librería de alto rendimiento para estructuras y para análisis de datos en Python. Entre sus características principales están:\n",
    "\n",
    "* Una clase DataFrame eficiente para manipulacion de datos con indexado integrado\n",
    "* Herramientas para leer y escribir entre estructuras almacenadas en memoria y diferentes formatos como CSV, archivos de texto plano, Excel, Bases de datos SQL y HDF5;\n",
    "* Alienación de data \n",
    "* Alineacion inteligente de datos y manejo integrado de data faltante.\n",
    "* Soporte para redimensionamiento y tablas de pivote.\n",
    "* Soporte Slicing, y slicing basado en etiquetas.\n",
    "* Las columnas pueden ser insertadas o borradas de las estructuras de datos.\n",
    "* Agregacion o transformación de datos con un poderoso motor de agrupacion (group by) permitiendo dividir-aplicar-combinar en los data sets.\n",
    "* Merge y Join de alto rendimiento.\n",
    "* Índices Jerárjicos por ejes que proveen una forma intuitiva de trabajar con datos multidimensionales en una estructura de menos dimensiones.\n",
    "* Funcionalidad para manejo de series de tiempo.\n",
    "* Python con pandas es usado en variedad de dominios comerciales y académicos, incluido Finanza, Nerociencia, Economía, Estadística, Marketing y mas"
   ]
  },
  {
   "cell_type": "code",
   "execution_count": null,
   "metadata": {},
   "outputs": [],
   "source": [
    "# Importar modulo pandas\n",
    "import pandas as pd\n",
    "import numpy as np"
   ]
  },
  {
   "cell_type": "markdown",
   "metadata": {},
   "source": [
    "## Series\n",
    "Un objeto Series en pandas es un array unidimensional de datos indexados. Es análogo a un array numpy de una dimensión"
   ]
  },
  {
   "cell_type": "code",
   "execution_count": null,
   "metadata": {},
   "outputs": [],
   "source": [
    "serie1 = pd.Series([10, 20, 30, 40, 50, 60, 70, 80, 90])\n",
    "serie1"
   ]
  },
  {
   "cell_type": "code",
   "execution_count": null,
   "metadata": {},
   "outputs": [],
   "source": [
    "serie1.values"
   ]
  },
  {
   "cell_type": "code",
   "execution_count": null,
   "metadata": {},
   "outputs": [],
   "source": [
    "serie1.index"
   ]
  },
  {
   "cell_type": "code",
   "execution_count": null,
   "metadata": {},
   "outputs": [],
   "source": [
    "serie1[1]"
   ]
  },
  {
   "cell_type": "code",
   "execution_count": null,
   "metadata": {},
   "outputs": [],
   "source": [
    "serie1[3:5]"
   ]
  },
  {
   "cell_type": "code",
   "execution_count": null,
   "metadata": {},
   "outputs": [],
   "source": [
    "serie1 = pd.Series([10, 20, 30, 40, 50, 60, 70, 80, 90], index = ['a', 'b', 'c', 'd', 'e', 'f', 'g', 'h', 'i'])\n",
    "serie1"
   ]
  },
  {
   "cell_type": "code",
   "execution_count": null,
   "metadata": {},
   "outputs": [],
   "source": [
    "serie1['d']"
   ]
  },
  {
   "cell_type": "code",
   "execution_count": null,
   "metadata": {},
   "outputs": [],
   "source": [
    "dic_poblacion = { \"Bogotá\": 8181047,\n",
    "             \"Medellín\": 2529403,\n",
    "             \"Cali\": 2445281,\n",
    "             \"Barranquilla\": 1232766 }\n",
    "\n",
    "poblacion = pd.Series(dic_poblacion)\n",
    "poblacion"
   ]
  },
  {
   "cell_type": "code",
   "execution_count": null,
   "metadata": {},
   "outputs": [],
   "source": [
    "poblacion[\"Cali\"]"
   ]
  },
  {
   "cell_type": "code",
   "execution_count": null,
   "metadata": {},
   "outputs": [],
   "source": [
    "poblacion[\"Bogotá\":\"Medellín\"]"
   ]
  },
  {
   "cell_type": "markdown",
   "metadata": {},
   "source": [
    "## DataFrame\n",
    "Un Dataframe en pandas es un array bidimensional de datos indexados. Es análogo a un array numpy de dos dimensión. Se puede decir que un DataFrame es una secuencia de objetos Series alienados que comparten el mismo índice."
   ]
  },
  {
   "cell_type": "code",
   "execution_count": null,
   "metadata": {},
   "outputs": [],
   "source": [
    "dic_poblacion = { \"Bogotá\": 8181047,\n",
    "             \"Medellín\": 2529403,\n",
    "             \"Cali\": 2445281,\n",
    "             \"Barranquilla\": 1232766 }\n",
    "\n",
    "poblacion = pd.Series(dic_poblacion)\n",
    "poblacion"
   ]
  },
  {
   "cell_type": "code",
   "execution_count": null,
   "metadata": {},
   "outputs": [],
   "source": [
    "dic_area = { \"Bogotá\": 1587,\n",
    "            \"Medellín\": 380,\n",
    "            \"Cali\": 562,\n",
    "            \"Barranquilla\":166 }\n",
    "\n",
    "area = pd.Series(dic_area)\n",
    "area"
   ]
  },
  {
   "cell_type": "code",
   "execution_count": null,
   "metadata": {},
   "outputs": [],
   "source": [
    "ciudades = pd.DataFrame({\"Población\": poblacion, \"Área\": area})\n",
    "ciudades"
   ]
  },
  {
   "cell_type": "code",
   "execution_count": null,
   "metadata": {},
   "outputs": [],
   "source": [
    "ciudades.index"
   ]
  },
  {
   "cell_type": "code",
   "execution_count": null,
   "metadata": {},
   "outputs": [],
   "source": [
    "ciudades.columns"
   ]
  },
  {
   "cell_type": "code",
   "execution_count": null,
   "metadata": {},
   "outputs": [],
   "source": [
    "ciudades[\"Población\"]"
   ]
  },
  {
   "cell_type": "code",
   "execution_count": null,
   "metadata": {},
   "outputs": [],
   "source": [
    "type(ciudades[\"Población\"])"
   ]
  },
  {
   "cell_type": "markdown",
   "metadata": {},
   "source": [
    "### Creación de DataFrames\n",
    "Los DataFrames se pueden crear de varias formas"
   ]
  },
  {
   "cell_type": "code",
   "execution_count": null,
   "metadata": {},
   "outputs": [],
   "source": [
    "# Crear DataFrame desde un objeto Serie\n",
    "pd.DataFrame(poblacion, columns=['Población'])"
   ]
  },
  {
   "cell_type": "code",
   "execution_count": null,
   "metadata": {},
   "outputs": [],
   "source": [
    "# Crear DataFrame desde diccionarios\n",
    "pd.DataFrame([{'a': 1, 'b': 2, 'c': 3}, {'a': 2, 'b': 3, 'c': 4}])"
   ]
  },
  {
   "cell_type": "code",
   "execution_count": null,
   "metadata": {},
   "outputs": [],
   "source": [
    "# Inclusive si hay algunos datos faltantes, Pandas creará del DataFrame con Nan (Not a Number) en los datos faltantes\n",
    "pd.DataFrame([{'a': 1, 'b': 2}, {'b': 3, 'c': 4}])"
   ]
  },
  {
   "cell_type": "code",
   "execution_count": null,
   "metadata": {},
   "outputs": [],
   "source": [
    "# Desde un diccionario de objetos Series\n",
    "ciudades = pd.DataFrame({\"Población\": poblacion, \"Área (km2)\": area})\n",
    "ciudades"
   ]
  },
  {
   "cell_type": "code",
   "execution_count": null,
   "metadata": {},
   "outputs": [],
   "source": [
    "# Desde un array Numpy bidimensional\n",
    "\n",
    "pd.DataFrame(np.random.rand(3, 2),\n",
    "             columns=['x', 'y'],\n",
    "             index=['a', 'b', 'c'])"
   ]
  },
  {
   "cell_type": "markdown",
   "metadata": {},
   "source": [
    "#### Crear DataFrame desde un archivo\n",
    "Pandas ofrece funciones para importar archivos de texto plano, csv, excel"
   ]
  },
  {
   "cell_type": "code",
   "execution_count": null,
   "metadata": {},
   "outputs": [],
   "source": [
    "precios_vivienda = pd.read_csv(\"data/Caracterizaci_n_precios_vivienda_nueva.csv\")\n",
    "precios_vivienda"
   ]
  },
  {
   "cell_type": "code",
   "execution_count": null,
   "metadata": {},
   "outputs": [],
   "source": [
    "precios_vivienda = pd.read_csv(\"data/Caracterizaci_n_precios_vivienda_nueva.csv\", index_col = \"Subzona\")\n",
    "precios_vivienda"
   ]
  },
  {
   "cell_type": "markdown",
   "metadata": {},
   "source": [
    "## Selección e indexado"
   ]
  },
  {
   "cell_type": "markdown",
   "metadata": {},
   "source": [
    "### Selección de datos en Series"
   ]
  },
  {
   "cell_type": "code",
   "execution_count": null,
   "metadata": {},
   "outputs": [],
   "source": [
    "import pandas as pd\n",
    "datos = pd.Series([0.1, 0.2, 0.7, 1.0],\n",
    "                 index=['a', 'b', 'c', 'd'])\n",
    "datos"
   ]
  },
  {
   "cell_type": "code",
   "execution_count": null,
   "metadata": {},
   "outputs": [],
   "source": [
    "datos['b']"
   ]
  },
  {
   "cell_type": "code",
   "execution_count": null,
   "metadata": {},
   "outputs": [],
   "source": [
    "# Los datos en un objeto Series puede ser modificado accediendo a través del índice\n",
    "\n",
    "datos['d'] = 40\n",
    "\n",
    "datos"
   ]
  },
  {
   "cell_type": "code",
   "execution_count": null,
   "metadata": {},
   "outputs": [],
   "source": [
    "# Selección por Slicing\n",
    "\n",
    "datos[0:2]"
   ]
  },
  {
   "cell_type": "code",
   "execution_count": null,
   "metadata": {},
   "outputs": [],
   "source": [
    "datos['b':'c']"
   ]
  },
  {
   "cell_type": "code",
   "execution_count": null,
   "metadata": {},
   "outputs": [],
   "source": [
    "# Máscaras\n",
    "\n",
    "datos < 0.5"
   ]
  },
  {
   "cell_type": "code",
   "execution_count": null,
   "metadata": {},
   "outputs": [],
   "source": [
    "# Las máscaras se pueden usar para seleccionar datos\n",
    "\n",
    "datos[datos < 0.5]"
   ]
  },
  {
   "cell_type": "markdown",
   "metadata": {},
   "source": [
    "### Selección de datos en DataFrame"
   ]
  },
  {
   "cell_type": "code",
   "execution_count": null,
   "metadata": {},
   "outputs": [],
   "source": [
    "dic_poblacion = { \"Bogotá\": 8181047,\n",
    "             \"Medellín\": 2529403,\n",
    "             \"Cali\": 2445281,\n",
    "             \"Barranquilla\": 1232766 }\n",
    "\n",
    "dic_area = { \"Bogotá\": 1587,\n",
    "            \"Medellín\": 380,\n",
    "            \"Cali\": 562,\n",
    "            \"Barranquilla\":166 }\n",
    "ciudades = pd.DataFrame({\"Población\": poblacion, \"Área\": area})\n",
    "ciudades"
   ]
  },
  {
   "cell_type": "code",
   "execution_count": null,
   "metadata": {},
   "outputs": [],
   "source": [
    "# Seleccion de columna\n",
    "ciudades[\"Área\"]   # Una columna de un DataFrame es un objeto Series"
   ]
  },
  {
   "cell_type": "code",
   "execution_count": null,
   "metadata": {},
   "outputs": [],
   "source": [
    "ciudades.Área # Una columna de un DataFrame también es una propiedad del DataFrame"
   ]
  },
  {
   "cell_type": "code",
   "execution_count": null,
   "metadata": {},
   "outputs": [],
   "source": [
    "ciudades['densidad'] = ciudades['Población'] / ciudades['Área']\n",
    "ciudades"
   ]
  },
  {
   "cell_type": "code",
   "execution_count": null,
   "metadata": {},
   "outputs": [],
   "source": [
    "ciudades.values"
   ]
  },
  {
   "cell_type": "code",
   "execution_count": null,
   "metadata": {},
   "outputs": [],
   "source": [
    "ciudades.T"
   ]
  },
  {
   "cell_type": "code",
   "execution_count": null,
   "metadata": {},
   "outputs": [],
   "source": [
    "ciudades.values[0]"
   ]
  },
  {
   "cell_type": "code",
   "execution_count": null,
   "metadata": {},
   "outputs": [],
   "source": [
    "ciudades"
   ]
  },
  {
   "cell_type": "code",
   "execution_count": null,
   "metadata": {},
   "outputs": [],
   "source": [
    "ciudades.loc[\"Cali\"]   # loc se usa para seleccionar por valor del índice"
   ]
  },
  {
   "cell_type": "code",
   "execution_count": null,
   "metadata": {},
   "outputs": [],
   "source": [
    "ciudades.loc[\"Bogotá\":\"Medellín\"]"
   ]
  },
  {
   "cell_type": "code",
   "execution_count": null,
   "metadata": {},
   "outputs": [],
   "source": [
    "ciudades.loc[[\"Cali\",\"Barranquilla\"]]"
   ]
  },
  {
   "cell_type": "code",
   "execution_count": null,
   "metadata": {},
   "outputs": [],
   "source": [
    "ciudades.iloc[0:2]   #iloc se usa para seleccionar por número de índice"
   ]
  },
  {
   "cell_type": "code",
   "execution_count": null,
   "metadata": {},
   "outputs": [],
   "source": [
    "ciudades[\"Población\"] > 2500000   # Creación de máscaras"
   ]
  },
  {
   "cell_type": "code",
   "execution_count": null,
   "metadata": {},
   "outputs": [],
   "source": [
    "ciudades[ ciudades[\"Población\"] > 2500000 ]  #Uso de máscara para selección"
   ]
  },
  {
   "cell_type": "code",
   "execution_count": null,
   "metadata": {},
   "outputs": [],
   "source": [
    "ciudades[ ciudades.Área < 500 ]"
   ]
  },
  {
   "cell_type": "markdown",
   "metadata": {},
   "source": [
    "## Manejando data faltante"
   ]
  },
  {
   "cell_type": "markdown",
   "metadata": {},
   "source": [
    "La data obtenida en los datasets reales suele tener datos faltantes o corruptos. Pandas nos puede ayudar con el manejo de estos datos faltantes"
   ]
  },
  {
   "cell_type": "code",
   "execution_count": null,
   "metadata": {},
   "outputs": [],
   "source": [
    "falt1 = np.array([1, None, 3, 4])    #None es un tipo de objeto especial en Python que se usa para datos faltantes\n",
    "falt1 # En este caso el typo de variable del arreglo es object"
   ]
  },
  {
   "cell_type": "code",
   "execution_count": null,
   "metadata": {},
   "outputs": [],
   "source": [
    "falt1.sum()"
   ]
  },
  {
   "cell_type": "code",
   "execution_count": null,
   "metadata": {},
   "outputs": [],
   "source": [
    "falt2 = np.array([1, np.nan, 3, 4]) #NaN (Not a number) es un valor especial de tipo flotante \n",
    "falt2.dtype  # El tipo de variable en este arreglo es float"
   ]
  },
  {
   "cell_type": "markdown",
   "metadata": {},
   "source": [
    "Aunque no genera un error en ejecución, las operaciones estándar de mnumpy con datos nan retornan nan"
   ]
  },
  {
   "cell_type": "code",
   "execution_count": null,
   "metadata": {},
   "outputs": [],
   "source": [
    "falt2.sum()  "
   ]
  },
  {
   "cell_type": "markdown",
   "metadata": {},
   "source": [
    "Numpy provee funciones especiales de agregación que no se afectan por datos nan"
   ]
  },
  {
   "cell_type": "code",
   "execution_count": null,
   "metadata": {},
   "outputs": [],
   "source": [
    "np.nansum(falt2), np.nanmin(falt2), np.nanmax(falt2), np.nanmean(falt2), np.nanstd(falt2)"
   ]
  },
  {
   "cell_type": "markdown",
   "metadata": {},
   "source": [
    "### NaN y None en Pandas\n",
    "Pandas maneja NaN y None en Pandas de manera conveniente"
   ]
  },
  {
   "cell_type": "code",
   "execution_count": null,
   "metadata": {},
   "outputs": [],
   "source": [
    "a = pd.Series([1, 2, None, 4, np.nan])\n",
    "a"
   ]
  },
  {
   "cell_type": "code",
   "execution_count": null,
   "metadata": {},
   "outputs": [],
   "source": [
    "b = pd.Series([0, 1, 2, 3, 4, 5, 6, 7, 8, 9, 0])\n",
    "b"
   ]
  },
  {
   "cell_type": "code",
   "execution_count": null,
   "metadata": {},
   "outputs": [],
   "source": [
    "b[5] = None\n",
    "b"
   ]
  },
  {
   "cell_type": "markdown",
   "metadata": {},
   "source": [
    "### Detectando valores faltantes en Pandas\n",
    "Pandas provee las funciones `isnull()` y `notnull()` para detección de datos faltantes"
   ]
  },
  {
   "cell_type": "code",
   "execution_count": null,
   "metadata": {},
   "outputs": [],
   "source": [
    "c = pd.Series([\"hola\", 15, np.nan, \"mundo\", None])\n",
    "c"
   ]
  },
  {
   "cell_type": "code",
   "execution_count": null,
   "metadata": {},
   "outputs": [],
   "source": [
    "c.isnull()"
   ]
  },
  {
   "cell_type": "code",
   "execution_count": null,
   "metadata": {},
   "outputs": [],
   "source": [
    "c[c.notnull()]"
   ]
  },
  {
   "cell_type": "markdown",
   "metadata": {},
   "source": [
    "#### Eliminar datos faltantes"
   ]
  },
  {
   "cell_type": "code",
   "execution_count": null,
   "metadata": {},
   "outputs": [],
   "source": [
    "c = c.dropna()\n",
    "c"
   ]
  },
  {
   "cell_type": "markdown",
   "metadata": {},
   "source": [
    "En el caso de DataFrames, existen más opciones para eleminar datos faltantes, se pueden eliminar filas o columnas complentas que contengan datos faltantes"
   ]
  },
  {
   "cell_type": "code",
   "execution_count": null,
   "metadata": {},
   "outputs": [],
   "source": [
    "df = pd.DataFrame([[1,      2, np.nan],\n",
    "                   [4,      5,      6],\n",
    "                   [np.nan, 8,      9]])\n",
    "df"
   ]
  },
  {
   "cell_type": "markdown",
   "metadata": {},
   "source": [
    "Eliminar filas que contengan uno o más datos faltantes"
   ]
  },
  {
   "cell_type": "code",
   "execution_count": null,
   "metadata": {},
   "outputs": [],
   "source": [
    "df.dropna()    # Eliminar filas que contengan datos faltantes"
   ]
  },
  {
   "cell_type": "markdown",
   "metadata": {},
   "source": [
    "Eliminar columnas que contengan uno o mas datos faltantes"
   ]
  },
  {
   "cell_type": "code",
   "execution_count": null,
   "metadata": {},
   "outputs": [],
   "source": [
    "df.dropna(axis='columns')    # Eliminar columnas que contengan uno o mas datos faltantes"
   ]
  },
  {
   "cell_type": "markdown",
   "metadata": {},
   "source": [
    "Eliminar filas que contengan todos los datos faltantes"
   ]
  },
  {
   "cell_type": "code",
   "execution_count": null,
   "metadata": {},
   "outputs": [],
   "source": [
    "df = pd.DataFrame([[np.nan, np.nan, np.nan],\n",
    "                   [4,         5,        6],\n",
    "                   [np.nan,    8,        9]])\n",
    "df"
   ]
  },
  {
   "cell_type": "code",
   "execution_count": null,
   "metadata": {},
   "outputs": [],
   "source": [
    "df.dropna(how='all')"
   ]
  },
  {
   "cell_type": "markdown",
   "metadata": {},
   "source": [
    "También se puede especificar una cantidad máxima de datos faltantes para que no se elimine la fila o columna"
   ]
  },
  {
   "cell_type": "code",
   "execution_count": null,
   "metadata": {},
   "outputs": [],
   "source": [
    "df = pd.DataFrame([[np.nan, np.nan, np.nan],\n",
    "                   [4,      np.nan,      6],\n",
    "                   [np.nan,    8,   np.nan],\n",
    "                   [np.nan,   10,   np.nan],\n",
    "                   [np.nan,    8,        9]])\n",
    "df"
   ]
  },
  {
   "cell_type": "code",
   "execution_count": null,
   "metadata": {},
   "outputs": [],
   "source": [
    "df.dropna(axis = 'columns', thresh = 2)"
   ]
  },
  {
   "cell_type": "code",
   "execution_count": null,
   "metadata": {},
   "outputs": [],
   "source": [
    "df.dropna(axis = 'rows', thresh = 2)"
   ]
  },
  {
   "cell_type": "markdown",
   "metadata": {},
   "source": [
    "#### Llenar datos faltantes"
   ]
  },
  {
   "cell_type": "code",
   "execution_count": null,
   "metadata": {},
   "outputs": [],
   "source": [
    "df = pd.DataFrame([[np.nan, np.nan, np.nan],\n",
    "                   [4,      np.nan,      6],\n",
    "                   [np.nan,    8,   np.nan],\n",
    "                   [np.nan,   10,   np.nan],\n",
    "                   [np.nan,    8,        9]])\n",
    "df"
   ]
  },
  {
   "cell_type": "code",
   "execution_count": null,
   "metadata": {},
   "outputs": [],
   "source": [
    "df.fillna(10)"
   ]
  },
  {
   "cell_type": "code",
   "execution_count": null,
   "metadata": {},
   "outputs": [],
   "source": [
    "df.fillna(method='ffill', axis=1)  # ffill o Forwardfill Hace un llenado del dato faltante hacia adelante"
   ]
  },
  {
   "cell_type": "code",
   "execution_count": null,
   "metadata": {},
   "outputs": [],
   "source": [
    "df = pd.DataFrame([[np.nan, np.nan, np.nan],\n",
    "                   [4,      np.nan,      6],\n",
    "                   [np.nan,    8,   np.nan],\n",
    "                   [np.nan,   10,   np.nan],\n",
    "                   [np.nan,    8,        9]])\n",
    "df"
   ]
  },
  {
   "cell_type": "code",
   "execution_count": null,
   "metadata": {},
   "outputs": [],
   "source": [
    "df.fillna(method='bfill', axis=0) # bfill o BackFill Hace un llenado del dato faltante hacia atrás"
   ]
  },
  {
   "cell_type": "markdown",
   "metadata": {},
   "source": [
    "# Ejercicio\n",
    "* Cargar el Dataset \"data/titanic.csv\" en un DataFrame con la funcion pd.read_csv()\n",
    "* Detectar datos faltantes en las diferentes columnas por medio de la función isnull()\n",
    "* Calcular el valor medio de las edades con la funcin nanmean()\n",
    "* Llenar los datos faltantes de edad con el resultado de la media"
   ]
  },
  {
   "cell_type": "code",
   "execution_count": 8,
   "metadata": {},
   "outputs": [],
   "source": [
    "### Celda para Completar Ejercicio"
   ]
  },
  {
   "cell_type": "code",
   "execution_count": null,
   "metadata": {},
   "outputs": [],
   "source": []
  },
  {
   "cell_type": "code",
   "execution_count": null,
   "metadata": {},
   "outputs": [],
   "source": []
  }
 ],
 "metadata": {
  "kernelspec": {
   "display_name": "Python 3",
   "language": "python",
   "name": "python3"
  },
  "language_info": {
   "codemirror_mode": {
    "name": "ipython",
    "version": 3
   },
   "file_extension": ".py",
   "mimetype": "text/x-python",
   "name": "python",
   "nbconvert_exporter": "python",
   "pygments_lexer": "ipython3",
   "version": "3.6.2"
  }
 },
 "nbformat": 4,
 "nbformat_minor": 2
}
