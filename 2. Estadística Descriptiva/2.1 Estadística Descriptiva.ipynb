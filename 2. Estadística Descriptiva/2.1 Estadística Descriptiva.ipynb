{
 "cells": [
  {
   "cell_type": "markdown",
   "metadata": {},
   "source": [
    "# Estadística Descriptiva\n",
    "La estadística descriptiva es una rama de la estadística que se encarga de recolectar, analizar y caracterizar un conjunto de datos con el objetivo de describir características y comportamientos por medio de medidas de resumen, tablas o gráficos"
   ]
  },
  {
   "cell_type": "markdown",
   "metadata": {},
   "source": [
    "## Variable estadística: \n",
    "Característica propia del individuo objeto del estudio estadístico\n",
    "Estas pueden ser:\n",
    "* Cualitativa ó Categorica: Pueden tomar valores de cualidades o categorias. Por ejemplo: \n",
    "    * Género: Masculino, Femenino\n",
    "    * Ciudad de Residencia: Bogotá, Medellín, Barranquilla , ...\n",
    "* Cuantitativa ó numérica: Son variables estadísticas que toman valores numéricos, pueden ser continuas o discretas: \n",
    "    * Cuantitativa continua: Puede tomar cualquier valor en un rango, por ejemplo \n",
    "        * Edad: 1.5 años, 56.23423 años\n",
    "        * Temperatura: 15.234 ºC\n",
    "    * Cuantitativa discreta: Son variables numéricas que solo pueden tomar ciertos valores en un rango, por ejemplo\n",
    "        * Cantidad de hijos: 1, 4\n",
    "        * Cantidad de vahículos: 1, 2"
   ]
  },
  {
   "cell_type": "code",
   "execution_count": null,
   "metadata": {},
   "outputs": [],
   "source": [
    "import pandas as pd\n",
    "import numpy as np \n",
    "import matplotlib.pyplot as plt\n",
    "\n",
    "# df_curso = pd.read_csv(\"data/curso.csv\") Entorno local\n",
    "df_curso = pd.read_csv(\"https://raw.githubusercontent.com/javiercocu/intro-datascience/master/data/curso.csv\")"
   ]
  },
  {
   "cell_type": "code",
   "execution_count": null,
   "metadata": {},
   "outputs": [],
   "source": [
    "# Visualizar primeros registros del DataSet\n",
    "df_curso.head()"
   ]
  },
  {
   "cell_type": "code",
   "execution_count": null,
   "metadata": {},
   "outputs": [],
   "source": [
    "# Columnas del DataFrame\n",
    "df_curso.keys()"
   ]
  },
  {
   "cell_type": "markdown",
   "metadata": {},
   "source": [
    "Al analizar este dataset, por favor describa que tipo de variable estadística tiene cada columna:\n",
    "\n",
    "* Estudiante:\n",
    "* Promedio:\n",
    "* Edad:\n",
    "* Genero:\n",
    "* Creditos cursados:"
   ]
  },
  {
   "cell_type": "code",
   "execution_count": null,
   "metadata": {},
   "outputs": [],
   "source": [
    "#Forma del DataFrame\n",
    "df_curso.shape"
   ]
  },
  {
   "cell_type": "code",
   "execution_count": null,
   "metadata": {},
   "outputs": [],
   "source": [
    "#Tipo de dato asumido por Pandas en cada columna\n",
    "df_curso.dtypes"
   ]
  },
  {
   "cell_type": "code",
   "execution_count": null,
   "metadata": {},
   "outputs": [],
   "source": [
    "#Resumen del DataFrame\n",
    "df_curso.info()"
   ]
  },
  {
   "cell_type": "markdown",
   "metadata": {},
   "source": [
    "## Gráficos Estadísticos"
   ]
  },
  {
   "cell_type": "markdown",
   "metadata": {},
   "source": [
    "### Gráfico de Barras\n",
    "Se utiliza básicamente para mostrar y comparar frecuencias de variables cuantitativas o comportamientos  en el tiempo, cuando el número de ítems es reducido."
   ]
  },
  {
   "cell_type": "code",
   "execution_count": null,
   "metadata": {},
   "outputs": [],
   "source": [
    "import matplotlib.pyplot as plt   # Matplotlib es una librería para gráficos en Python"
   ]
  },
  {
   "cell_type": "code",
   "execution_count": null,
   "metadata": {},
   "outputs": [],
   "source": [
    "df_curso_est = df_curso.set_index(\"Estudiante\")\n",
    "df_curso_est"
   ]
  },
  {
   "cell_type": "code",
   "execution_count": null,
   "metadata": {},
   "outputs": [],
   "source": [
    "barplot1 = df_curso_est[\"Nota\"].plot.bar()\n",
    "barplot1.set_ylabel(\"Nota\")"
   ]
  },
  {
   "cell_type": "code",
   "execution_count": null,
   "metadata": {},
   "outputs": [],
   "source": [
    "barplot2 = df_curso_est[\"Edad\"].plot.bar()\n",
    "barplot2.set_ylabel(\"Edad\")"
   ]
  },
  {
   "cell_type": "markdown",
   "metadata": {},
   "source": [
    "### Gráfico de Sectores Circulares\n",
    "Es un gráfico en forma característica de una circunferencia dividida en sectores, por medio de radios que dan la sensación de una torta partida en porciones.\n",
    "Se usa para representar variables cualitativas en porcentajes o cifras absolutas"
   ]
  },
  {
   "cell_type": "code",
   "execution_count": null,
   "metadata": {},
   "outputs": [],
   "source": [
    "resumen_genero = df_curso[\"Genero\"].value_counts()\n",
    "resumen_genero"
   ]
  },
  {
   "cell_type": "code",
   "execution_count": null,
   "metadata": {},
   "outputs": [],
   "source": [
    "resumen_genero.plot.pie()"
   ]
  },
  {
   "cell_type": "markdown",
   "metadata": {},
   "source": [
    "### Histograma\n",
    "El histograma es un diagrama en forma de columna, muy parecido a los gráficos de barras. Se define como un conjunto de rectángulos paralelos, en el que la base representa la clase de la distribución y su altura la magnitud que alcanza la frecuencia de la clase correspondiente."
   ]
  },
  {
   "cell_type": "code",
   "execution_count": null,
   "metadata": {},
   "outputs": [],
   "source": [
    "hist = df_curso[\"Creditos cursados\"].hist()\n",
    "hist.set_xlabel(\"Creditos Cursados\")\n",
    "hist.set_ylabel(\"Frecuencia\")"
   ]
  },
  {
   "cell_type": "code",
   "execution_count": null,
   "metadata": {},
   "outputs": [],
   "source": [
    "hist2 = df_curso.hist()"
   ]
  },
  {
   "cell_type": "markdown",
   "metadata": {},
   "source": [
    "## Media, Mediana y Moda\n",
    "* La media $\\mu$, promedio o media aritmética es resultado de la suma de todas las observaciones dividido por el número total de datos\n",
    "* La mediana es el elemento de un conjunto de datos ordenados (X1,X2,…,XN) que deja a izquierda y derecha la mitad de valores.\n",
    "* La moda es el valor más repetido del conjunto de datos, es decir, el valor cuya frecuencia relativa es mayor. En un conjunto puede haber más de una moda.\n",
    "\n",
    "<img align = \"left\" src=\"files/imagenes/media_mediana_moda.png\" height=\"100\" width=\"200\">"
   ]
  },
  {
   "cell_type": "code",
   "execution_count": null,
   "metadata": {},
   "outputs": [],
   "source": [
    "df_curso_est[\"Nota\"].sort_values()"
   ]
  },
  {
   "cell_type": "code",
   "execution_count": null,
   "metadata": {},
   "outputs": [],
   "source": [
    "df_curso[\"Nota\"].hist(grid = False, bins=20)"
   ]
  },
  {
   "cell_type": "code",
   "execution_count": null,
   "metadata": {},
   "outputs": [],
   "source": [
    "# Cálculo de la Media\n",
    "df_curso[\"Nota\"].mean()"
   ]
  },
  {
   "cell_type": "code",
   "execution_count": null,
   "metadata": {},
   "outputs": [],
   "source": [
    "# Cálculo de la Mediana\n",
    "df_curso[\"Nota\"].median()"
   ]
  },
  {
   "cell_type": "code",
   "execution_count": null,
   "metadata": {},
   "outputs": [],
   "source": [
    "# Cálculo de la Mediana\n",
    "df_curso[\"Nota\"].mode()"
   ]
  },
  {
   "cell_type": "markdown",
   "metadata": {},
   "source": [
    "## Cuantiles, Cuartiles\n",
    "\n",
    "* Los cuantiles suelen usarse por grupos que dividen la distribución en partes iguales; entendidas estas como intervalos que comprenden la misma proporción de valores. Los más usados son los cuartiles, cuando dividen la distribución en cuatro partes;\n",
    "\n",
    "* Los cuartiles son los tres valores que dividen al conjunto de datos ordenados en cuatro partes porcentualmente iguales. Hay tres cuartiles denotados usualmente Q1, Q2, Q3.\n",
    "\n",
    "<img align = \"left\" src=\"files/imagenes/cuartiles.jpg\" height=\"200\" width=\"400\">"
   ]
  },
  {
   "cell_type": "code",
   "execution_count": null,
   "metadata": {},
   "outputs": [],
   "source": [
    "df_curso[\"Nota\"].sort_values()"
   ]
  },
  {
   "cell_type": "code",
   "execution_count": null,
   "metadata": {},
   "outputs": [],
   "source": [
    "q1 = df_curso[\"Nota\"].quantile(.25)\n",
    "q2 = df_curso[\"Nota\"].quantile(.5)\n",
    "q3 = df_curso[\"Nota\"].quantile(.75)\n",
    "print (\"Cuartil 1 Q1\\n:\", q1, \"\\n\\nCuartil 2 Q2\\n:\", q2, \"\\n\\nCuartil 3 Q3\\n:\", q3)"
   ]
  },
  {
   "cell_type": "markdown",
   "metadata": {},
   "source": [
    "## Características de disperción"
   ]
  },
  {
   "cell_type": "markdown",
   "metadata": {},
   "source": [
    "### Rango\n",
    "Valor máximo menos el valor mínimo"
   ]
  },
  {
   "cell_type": "code",
   "execution_count": null,
   "metadata": {},
   "outputs": [],
   "source": [
    "df_curso[\"Nota\"].sort_values()"
   ]
  },
  {
   "cell_type": "code",
   "execution_count": null,
   "metadata": {},
   "outputs": [],
   "source": [
    "rango_promedio = df_curso[\"Nota\"].max() - df_curso[\"Nota\"].min()\n",
    "rango_promedio"
   ]
  },
  {
   "cell_type": "markdown",
   "metadata": {},
   "source": [
    "### Recorrido intercuartílico\n",
    "Valor de Q3 menos Q1"
   ]
  },
  {
   "cell_type": "code",
   "execution_count": null,
   "metadata": {},
   "outputs": [],
   "source": [
    "rec_intercuar_promedio = df_curso[\"Nota\"].quantile(.75) - df_curso[\"Nota\"].quantile(.25)\n",
    "rec_intercuar_promedio"
   ]
  },
  {
   "cell_type": "markdown",
   "metadata": {},
   "source": [
    "### Varianza y Desviación Estándar\n",
    "* La  varianza mide la dispersión dentro de un conjunto de datos, calculando la media de los cuadrados de las distancias de todos los datos. Si el valor de la varianza es pequeño, significa que los valores del conjunto están bastante agrupados.\n",
    "\n",
    "* La desviación estándar $\\sigma$  mide el promedio de las desviaciones de los datos respecto a la media en las mismas unidades de los datos. Es la raiz Cuadrada de la Varianza"
   ]
  },
  {
   "cell_type": "code",
   "execution_count": null,
   "metadata": {},
   "outputs": [],
   "source": [
    "df_curso[\"Edad\"].var() #Varianza"
   ]
  },
  {
   "cell_type": "code",
   "execution_count": null,
   "metadata": {},
   "outputs": [],
   "source": [
    "df_curso[\"Edad\"].std() # Desviacion Estándar"
   ]
  },
  {
   "cell_type": "markdown",
   "metadata": {},
   "source": [
    "### Gráfico de cajas y bigotes\n",
    "Un diagrama de cajas y bigotes es una manera conveniente de mostrar visualmente grupos de datos numéricos a través de sus cuartiles.\n",
    "\n",
    "Las líneas que se extienden paralelas a las cajas se conocen como «bigotes», y se usan para indicar variabilidad fuera de los cuartiles superior e inferior.\n",
    "\n",
    "\n",
    "<img align = \"left\" src=\"files/imagenes/boxplot.svg\" height=\"400\" width=\"400\">"
   ]
  },
  {
   "cell_type": "code",
   "execution_count": null,
   "metadata": {},
   "outputs": [],
   "source": [
    "df_curso[\"Nota\"].plot.box()"
   ]
  },
  {
   "cell_type": "code",
   "execution_count": null,
   "metadata": {},
   "outputs": [],
   "source": [
    "# La funcion describe() muestra el conteo, media, desviación estándar, valor mínimo, Cuartiles, valor máximo\n",
    "df_curso.describe()"
   ]
  },
  {
   "cell_type": "markdown",
   "metadata": {},
   "source": [
    "## Gráficas multivariables\n",
    "### Matriz de Correlación\n",
    "La Correlación es una técnica estadística usada para determinar la relación entre dos o más variables. \n",
    "\n",
    "El Coeficiente de Correlación es un valor cuantitativo de la relación entre dos o\n",
    "más variables.\n",
    "\n",
    "La coeficiente de correlación puede variar desde -1.00 hasta 1.00.\n",
    "\n",
    "La correlación de proporcionalidad directa o positiva se establece con los valores\n",
    "+1.00 y de proporcionalidad inversa o negativa, con -1.00. No existe relación entre\n",
    "las variables cuando el coeficiente es de 0.00. "
   ]
  },
  {
   "cell_type": "code",
   "execution_count": null,
   "metadata": {},
   "outputs": [],
   "source": [
    "correlacion = df_curso.corr()\n",
    "correlacion"
   ]
  },
  {
   "cell_type": "code",
   "execution_count": null,
   "metadata": {},
   "outputs": [],
   "source": [
    "import matplotlib.pyplot as plt\n",
    "\n",
    "fig = plt.figure()\n",
    "ax = fig.add_subplot(111)\n",
    "cax = ax.matshow(correlacion, vmin=-1, vmax=1, cmap=plt.cm.seismic)\n",
    "fig.colorbar(cax)\n",
    "ticks = np.arange(0,3,1)\n",
    "ax.set_xticks(ticks)\n",
    "ax.set_yticks(ticks)\n",
    "ax.set_xticklabels(correlacion.index)\n",
    "ax.set_yticklabels(correlacion.index)\n",
    "plt.show()"
   ]
  },
  {
   "cell_type": "markdown",
   "metadata": {},
   "source": [
    "### Gráfico de Dispersión\n",
    "Un diagrama de dispersión o gráfica de dispersión o gráfico de dispersión es un tipo de diagrama matemático que utiliza las coordenadas cartesianas para mostrar los valores de dos variables para un conjunto de datos"
   ]
  },
  {
   "cell_type": "code",
   "execution_count": null,
   "metadata": {},
   "outputs": [],
   "source": [
    "graf_dispersion = pd.plotting.scatter_matrix(df_curso)"
   ]
  },
  {
   "cell_type": "markdown",
   "metadata": {},
   "source": [
    "## Distribuciones\n",
    "\n",
    "Las variables aleatorias crean distribuciones de acuerdo a la probabilidad de ocurrencia de todos los valores que toma.\n",
    "Cada distribución tiene:\n",
    "- Función de probabilidad: Asigna probabilidad a cada valor de la variable f(x) \n",
    "- Parámetros: Define la ubicación y el tamaño de una distribución"
   ]
  },
  {
   "cell_type": "markdown",
   "metadata": {},
   "source": [
    "### Distribución Normal\n",
    "La distribución normal o Gaussiana es la distribución continua que se utiliza más comúnmente en estadística. Un gran número de fenómenos se pueden modelar con esta distribución, tiene forma de Campana\n"
   ]
  },
  {
   "cell_type": "markdown",
   "metadata": {},
   "source": [
    "La distribución normal o Gaussiana es la distribución continua que se utiliza más comúnmente en estadística. Un gran número de fenómenos se pueden modelar con esta distribución, tiene forma de Campana.\n",
    "\n",
    "<img align = \"left\" src=\"files/imagenes/distro_normal.jpg\" height=\"400\" width=\"400\">\n"
   ]
  },
  {
   "cell_type": "markdown",
   "metadata": {},
   "source": [
    "A 1 desviación estándar de la media está el 68.26% de los datos"
   ]
  },
  {
   "cell_type": "code",
   "execution_count": null,
   "metadata": {},
   "outputs": [],
   "source": []
  }
 ],
 "metadata": {
  "kernelspec": {
   "display_name": "Python 3",
   "language": "python",
   "name": "python3"
  },
  "language_info": {
   "codemirror_mode": {
    "name": "ipython",
    "version": 3
   },
   "file_extension": ".py",
   "mimetype": "text/x-python",
   "name": "python",
   "nbconvert_exporter": "python",
   "pygments_lexer": "ipython3",
   "version": "3.6.2"
  }
 },
 "nbformat": 4,
 "nbformat_minor": 2
}
