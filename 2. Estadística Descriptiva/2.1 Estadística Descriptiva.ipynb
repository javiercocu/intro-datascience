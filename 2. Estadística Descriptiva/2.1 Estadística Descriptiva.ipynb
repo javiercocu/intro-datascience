{
 "cells": [
  {
   "cell_type": "markdown",
   "metadata": {},
   "source": [
    "# Estadística Descriptiva\n",
    "La estadística descriptiva es una rama de la estadística que se encarga de recolectar, analizar y caracterizar un conjunto de datos con el objetivo de describir características y comportamientos por medio de medidas de resumen, tablas o gráficos"
   ]
  },
  {
   "cell_type": "markdown",
   "metadata": {},
   "source": [
    "## Variable estadística: \n",
    "Característica propia del individuo objeto del estudio estadístico\n",
    "Estas pueden ser:\n",
    "* Cualitativa ó Categorica: Pueden tomar valores de cualidades o categorias. Por ejemplo: \n",
    "    * Género: Masculino, Femenino\n",
    "    * Ciudad de Residencia: Bogotá, Medellín, Barranquilla , ...\n",
    "* Cuantitativa ó numérica: Son variables estadísticas que toman valores numéricos, pueden ser continuas o discretas: \n",
    "    * Cuantitativa continua: Puede tomar cualquier valor en un rango, por ejemplo \n",
    "        * Edad: 1.5 años, 56.23423 años\n",
    "        * Temperatura: 15.234 ºC\n",
    "    * Cuantitativa discreta: Son variables numéricas que solo pueden tomar ciertos valores en un rango, por ejemplo\n",
    "        * Cantidad de hijos: 1, 4\n",
    "        * Cantidad de vahículos: 1, 2"
   ]
  },
  {
   "cell_type": "code",
   "execution_count": 124,
   "metadata": {},
   "outputs": [],
   "source": [
    "import pandas as pd\n",
    "import numpy as np \n",
    "import matplotlib.pyplot as plt\n",
    "\n",
    "df_curso = pd.read_csv(\"data/curso.csv\")"
   ]
  },
  {
   "cell_type": "code",
   "execution_count": 125,
   "metadata": {},
   "outputs": [
    {
     "data": {
      "text/html": [
       "<div>\n",
       "<style>\n",
       "    .dataframe thead tr:only-child th {\n",
       "        text-align: right;\n",
       "    }\n",
       "\n",
       "    .dataframe thead th {\n",
       "        text-align: left;\n",
       "    }\n",
       "\n",
       "    .dataframe tbody tr th {\n",
       "        vertical-align: top;\n",
       "    }\n",
       "</style>\n",
       "<table border=\"1\" class=\"dataframe\">\n",
       "  <thead>\n",
       "    <tr style=\"text-align: right;\">\n",
       "      <th></th>\n",
       "      <th>Estudiante</th>\n",
       "      <th>Nota</th>\n",
       "      <th>Edad</th>\n",
       "      <th>Genero</th>\n",
       "      <th>Creditos cursados</th>\n",
       "    </tr>\n",
       "  </thead>\n",
       "  <tbody>\n",
       "    <tr>\n",
       "      <th>0</th>\n",
       "      <td>Luis</td>\n",
       "      <td>4.0</td>\n",
       "      <td>23</td>\n",
       "      <td>M</td>\n",
       "      <td>4</td>\n",
       "    </tr>\n",
       "    <tr>\n",
       "      <th>1</th>\n",
       "      <td>Andrea</td>\n",
       "      <td>3.6</td>\n",
       "      <td>45</td>\n",
       "      <td>F</td>\n",
       "      <td>6</td>\n",
       "    </tr>\n",
       "    <tr>\n",
       "      <th>2</th>\n",
       "      <td>David</td>\n",
       "      <td>4.0</td>\n",
       "      <td>35</td>\n",
       "      <td>M</td>\n",
       "      <td>8</td>\n",
       "    </tr>\n",
       "    <tr>\n",
       "      <th>3</th>\n",
       "      <td>Camilo</td>\n",
       "      <td>3.5</td>\n",
       "      <td>28</td>\n",
       "      <td>M</td>\n",
       "      <td>8</td>\n",
       "    </tr>\n",
       "    <tr>\n",
       "      <th>4</th>\n",
       "      <td>Angela</td>\n",
       "      <td>0.0</td>\n",
       "      <td>26</td>\n",
       "      <td>F</td>\n",
       "      <td>2</td>\n",
       "    </tr>\n",
       "  </tbody>\n",
       "</table>\n",
       "</div>"
      ],
      "text/plain": [
       "  Estudiante  Nota  Edad Genero  Creditos cursados\n",
       "0       Luis   4.0    23      M                  4\n",
       "1     Andrea   3.6    45      F                  6\n",
       "2      David   4.0    35      M                  8\n",
       "3     Camilo   3.5    28      M                  8\n",
       "4     Angela   0.0    26      F                  2"
      ]
     },
     "execution_count": 125,
     "metadata": {},
     "output_type": "execute_result"
    }
   ],
   "source": [
    "# Visualizar primeros registros del DataSet\n",
    "df_curso.head()"
   ]
  },
  {
   "cell_type": "code",
   "execution_count": 126,
   "metadata": {},
   "outputs": [
    {
     "data": {
      "text/plain": [
       "Index(['Estudiante', 'Nota', 'Edad', 'Genero', 'Creditos cursados'], dtype='object')"
      ]
     },
     "execution_count": 126,
     "metadata": {},
     "output_type": "execute_result"
    }
   ],
   "source": [
    "# Columnas del DataFrame\n",
    "df_curso.keys()"
   ]
  },
  {
   "cell_type": "markdown",
   "metadata": {},
   "source": [
    "Al analizar este dataset, por favor describa que tipo de variable estadística tiene cada columna:\n",
    "\n",
    "* Estudiante:\n",
    "* Promedio:\n",
    "* Edad:\n",
    "* Genero:\n",
    "* Creditos cursados:"
   ]
  },
  {
   "cell_type": "code",
   "execution_count": 127,
   "metadata": {},
   "outputs": [
    {
     "data": {
      "text/plain": [
       "(12, 5)"
      ]
     },
     "execution_count": 127,
     "metadata": {},
     "output_type": "execute_result"
    }
   ],
   "source": [
    "#Forma del DataFrame\n",
    "df_curso.shape"
   ]
  },
  {
   "cell_type": "code",
   "execution_count": 128,
   "metadata": {},
   "outputs": [
    {
     "data": {
      "text/plain": [
       "Estudiante            object\n",
       "Nota                 float64\n",
       "Edad                   int64\n",
       "Genero                object\n",
       "Creditos cursados      int64\n",
       "dtype: object"
      ]
     },
     "execution_count": 128,
     "metadata": {},
     "output_type": "execute_result"
    }
   ],
   "source": [
    "#Tipo de dato asumido por Pandas en cada columna\n",
    "df_curso.dtypes"
   ]
  },
  {
   "cell_type": "code",
   "execution_count": 129,
   "metadata": {},
   "outputs": [
    {
     "name": "stdout",
     "output_type": "stream",
     "text": [
      "<class 'pandas.core.frame.DataFrame'>\n",
      "RangeIndex: 12 entries, 0 to 11\n",
      "Data columns (total 5 columns):\n",
      "Estudiante           12 non-null object\n",
      "Nota                 12 non-null float64\n",
      "Edad                 12 non-null int64\n",
      "Genero               12 non-null object\n",
      "Creditos cursados    12 non-null int64\n",
      "dtypes: float64(1), int64(2), object(2)\n",
      "memory usage: 560.0+ bytes\n"
     ]
    }
   ],
   "source": [
    "#Resumen del DataFrame\n",
    "df_curso.info()"
   ]
  },
  {
   "cell_type": "markdown",
   "metadata": {},
   "source": [
    "## Gráficos Estadísticos"
   ]
  },
  {
   "cell_type": "markdown",
   "metadata": {},
   "source": [
    "### Gráfico de Barras\n",
    "Se utiliza básicamente para mostrar y comparar frecuencias de variables cuantitativas o comportamientos  en el tiempo, cuando el número de ítems es reducido."
   ]
  },
  {
   "cell_type": "code",
   "execution_count": 130,
   "metadata": {},
   "outputs": [],
   "source": [
    "import matplotlib.pyplot as plt   # Matplotlib es una librería para gráficos en Python"
   ]
  },
  {
   "cell_type": "code",
   "execution_count": 131,
   "metadata": {},
   "outputs": [
    {
     "data": {
      "text/html": [
       "<div>\n",
       "<style>\n",
       "    .dataframe thead tr:only-child th {\n",
       "        text-align: right;\n",
       "    }\n",
       "\n",
       "    .dataframe thead th {\n",
       "        text-align: left;\n",
       "    }\n",
       "\n",
       "    .dataframe tbody tr th {\n",
       "        vertical-align: top;\n",
       "    }\n",
       "</style>\n",
       "<table border=\"1\" class=\"dataframe\">\n",
       "  <thead>\n",
       "    <tr style=\"text-align: right;\">\n",
       "      <th></th>\n",
       "      <th>Nota</th>\n",
       "      <th>Edad</th>\n",
       "      <th>Genero</th>\n",
       "      <th>Creditos cursados</th>\n",
       "    </tr>\n",
       "    <tr>\n",
       "      <th>Estudiante</th>\n",
       "      <th></th>\n",
       "      <th></th>\n",
       "      <th></th>\n",
       "      <th></th>\n",
       "    </tr>\n",
       "  </thead>\n",
       "  <tbody>\n",
       "    <tr>\n",
       "      <th>Luis</th>\n",
       "      <td>4.0</td>\n",
       "      <td>23</td>\n",
       "      <td>M</td>\n",
       "      <td>4</td>\n",
       "    </tr>\n",
       "    <tr>\n",
       "      <th>Andrea</th>\n",
       "      <td>3.6</td>\n",
       "      <td>45</td>\n",
       "      <td>F</td>\n",
       "      <td>6</td>\n",
       "    </tr>\n",
       "    <tr>\n",
       "      <th>David</th>\n",
       "      <td>4.0</td>\n",
       "      <td>35</td>\n",
       "      <td>M</td>\n",
       "      <td>8</td>\n",
       "    </tr>\n",
       "    <tr>\n",
       "      <th>Camilo</th>\n",
       "      <td>3.5</td>\n",
       "      <td>28</td>\n",
       "      <td>M</td>\n",
       "      <td>8</td>\n",
       "    </tr>\n",
       "    <tr>\n",
       "      <th>Angela</th>\n",
       "      <td>0.0</td>\n",
       "      <td>26</td>\n",
       "      <td>F</td>\n",
       "      <td>2</td>\n",
       "    </tr>\n",
       "    <tr>\n",
       "      <th>Diana</th>\n",
       "      <td>2.7</td>\n",
       "      <td>42</td>\n",
       "      <td>F</td>\n",
       "      <td>4</td>\n",
       "    </tr>\n",
       "    <tr>\n",
       "      <th>Javier</th>\n",
       "      <td>3.8</td>\n",
       "      <td>23</td>\n",
       "      <td>M</td>\n",
       "      <td>6</td>\n",
       "    </tr>\n",
       "    <tr>\n",
       "      <th>Sergio</th>\n",
       "      <td>3.3</td>\n",
       "      <td>36</td>\n",
       "      <td>M</td>\n",
       "      <td>2</td>\n",
       "    </tr>\n",
       "    <tr>\n",
       "      <th>Carlos</th>\n",
       "      <td>4.7</td>\n",
       "      <td>22</td>\n",
       "      <td>M</td>\n",
       "      <td>4</td>\n",
       "    </tr>\n",
       "    <tr>\n",
       "      <th>Alberto</th>\n",
       "      <td>2.8</td>\n",
       "      <td>34</td>\n",
       "      <td>M</td>\n",
       "      <td>6</td>\n",
       "    </tr>\n",
       "    <tr>\n",
       "      <th>Maria</th>\n",
       "      <td>4.8</td>\n",
       "      <td>36</td>\n",
       "      <td>F</td>\n",
       "      <td>6</td>\n",
       "    </tr>\n",
       "    <tr>\n",
       "      <th>Diana</th>\n",
       "      <td>2.0</td>\n",
       "      <td>35</td>\n",
       "      <td>F</td>\n",
       "      <td>4</td>\n",
       "    </tr>\n",
       "  </tbody>\n",
       "</table>\n",
       "</div>"
      ],
      "text/plain": [
       "            Nota  Edad Genero  Creditos cursados\n",
       "Estudiante                                      \n",
       "Luis         4.0    23      M                  4\n",
       "Andrea       3.6    45      F                  6\n",
       "David        4.0    35      M                  8\n",
       "Camilo       3.5    28      M                  8\n",
       "Angela       0.0    26      F                  2\n",
       "Diana        2.7    42      F                  4\n",
       "Javier       3.8    23      M                  6\n",
       "Sergio       3.3    36      M                  2\n",
       "Carlos       4.7    22      M                  4\n",
       "Alberto      2.8    34      M                  6\n",
       "Maria        4.8    36      F                  6\n",
       "Diana        2.0    35      F                  4"
      ]
     },
     "execution_count": 131,
     "metadata": {},
     "output_type": "execute_result"
    }
   ],
   "source": [
    "df_curso_est = df_curso.set_index(\"Estudiante\")\n",
    "df_curso_est"
   ]
  },
  {
   "cell_type": "code",
   "execution_count": 132,
   "metadata": {},
   "outputs": [
    {
     "data": {
      "text/plain": [
       "Text(0,0.5,'Nota')"
      ]
     },
     "execution_count": 132,
     "metadata": {},
     "output_type": "execute_result"
    },
    {
     "data": {
      "image/png": "[encoded data removed]",
      "text/plain": [
       "<Figure size 432x288 with 1 Axes>"
      ]
     },
     "metadata": {},
     "output_type": "display_data"
    }
   ],
   "source": [
    "barplot1 = df_curso_est[\"Nota\"].plot.bar()\n",
    "barplot1.set_ylabel(\"Nota\")"
   ]
  },
  {
   "cell_type": "code",
   "execution_count": 133,
   "metadata": {},
   "outputs": [
    {
     "data": {
      "text/plain": [
       "Text(0,0.5,'Edad')"
      ]
     },
     "execution_count": 133,
     "metadata": {},
     "output_type": "execute_result"
    },
    {
     "data": {
      "image/png": "[encoded data removed]",
      "text/plain": [
       "<Figure size 432x288 with 1 Axes>"
      ]
     },
     "metadata": {},
     "output_type": "display_data"
    }
   ],
   "source": [
    "barplot2 = df_curso_est[\"Edad\"].plot.bar()\n",
    "barplot2.set_ylabel(\"Edad\")"
   ]
  },
  {
   "cell_type": "markdown",
   "metadata": {},
   "source": [
    "### Gráfico de Sectores Circulares\n",
    "Es un gráfico en forma característica de una circunferencia dividida en sectores, por medio de radios que dan la sensación de una torta partida en porciones.\n",
    "Se usa para representar variables cualitativas en porcentajes o cifras absolutas"
   ]
  },
  {
   "cell_type": "code",
   "execution_count": 134,
   "metadata": {},
   "outputs": [
    {
     "data": {
      "text/plain": [
       "M    7\n",
       "F    5\n",
       "Name: Genero, dtype: int64"
      ]
     },
     "execution_count": 134,
     "metadata": {},
     "output_type": "execute_result"
    }
   ],
   "source": [
    "resumen_genero = df_curso[\"Genero\"].value_counts()\n",
    "resumen_genero"
   ]
  },
  {
   "cell_type": "code",
   "execution_count": 135,
   "metadata": {},
   "outputs": [
    {
     "data": {
      "text/plain": [
       "<matplotlib.axes._subplots.AxesSubplot at 0x10d3499b0>"
      ]
     },
     "execution_count": 135,
     "metadata": {},
     "output_type": "execute_result"
    },
    {
     "data": {
      "image/png": "[encoded data removed]",
      "text/plain": [
       "<Figure size 432x288 with 1 Axes>"
      ]
     },
     "metadata": {},
     "output_type": "display_data"
    }
   ],
   "source": [
    "resumen_genero.plot.pie()"
   ]
  },
  {
   "cell_type": "markdown",
   "metadata": {},
   "source": [
    "### Histograma\n",
    "El histograma es un diagrama en forma de columna, muy parecido a los gráficos de barras. Se define como un conjunto de rectángulos paralelos, en el que la base representa la clase de la distribución y su altura la magnitud que alcanza la frecuencia de la clase correspondiente."
   ]
  },
  {
   "cell_type": "code",
   "execution_count": 136,
   "metadata": {},
   "outputs": [
    {
     "data": {
      "text/plain": [
       "Text(0,0.5,'Frecuencia')"
      ]
     },
     "execution_count": 136,
     "metadata": {},
     "output_type": "execute_result"
    },
    {
     "data": {
      "image/png": "[encoded data removed]",
      "text/plain": [
       "<Figure size 432x288 with 1 Axes>"
      ]
     },
     "metadata": {},
     "output_type": "display_data"
    }
   ],
   "source": [
    "hist = df_curso[\"Creditos cursados\"].hist()\n",
    "hist.set_xlabel(\"Creditos Cursados\")\n",
    "hist.set_ylabel(\"Frecuencia\")"
   ]
  },
  {
   "cell_type": "code",
   "execution_count": 137,
   "metadata": {},
   "outputs": [
    {
     "data": {
      "image/png": "[encoded data removed]",
      "text/plain": [
       "<Figure size 432x288 with 4 Axes>"
      ]
     },
     "metadata": {},
     "output_type": "display_data"
    }
   ],
   "source": [
    "hist2 = df_curso.hist()"
   ]
  },
  {
   "cell_type": "markdown",
   "metadata": {},
   "source": [
    "## Media, Mediana y Moda\n",
    "* La media $\\mu$, promedio o media aritmética es resultado de la suma de todas las observaciones dividido por el número total de datos\n",
    "* La mediana es el elemento de un conjunto de datos ordenados (X1,X2,…,XN) que deja a izquierda y derecha la mitad de valores.\n",
    "* La moda es el valor más repetido del conjunto de datos, es decir, el valor cuya frecuencia relativa es mayor. En un conjunto puede haber más de una moda.\n",
    "\n",
    "<img align = \"left\" src=\"files/imagenes/media_mediana_moda.png\" height=\"100\" width=\"200\">"
   ]
  },
  {
   "cell_type": "code",
   "execution_count": 138,
   "metadata": {},
   "outputs": [
    {
     "data": {
      "text/plain": [
       "Estudiante\n",
       "Angela     0.0\n",
       "Diana      2.0\n",
       "Diana      2.7\n",
       "Alberto    2.8\n",
       "Sergio     3.3\n",
       "Camilo     3.5\n",
       "Andrea     3.6\n",
       "Javier     3.8\n",
       "Luis       4.0\n",
       "David      4.0\n",
       "Carlos     4.7\n",
       "Maria      4.8\n",
       "Name: Nota, dtype: float64"
      ]
     },
     "execution_count": 138,
     "metadata": {},
     "output_type": "execute_result"
    }
   ],
   "source": [
    "df_curso_est[\"Nota\"].sort_values()"
   ]
  },
  {
   "cell_type": "code",
   "execution_count": 139,
   "metadata": {},
   "outputs": [
    {
     "data": {
      "text/plain": [
       "<matplotlib.axes._subplots.AxesSubplot at 0x10dcd77f0>"
      ]
     },
     "execution_count": 139,
     "metadata": {},
     "output_type": "execute_result"
    },
    {
     "data": {
      "image/png": "[encoded data removed]",
      "text/plain": [
       "<Figure size 432x288 with 1 Axes>"
      ]
     },
     "metadata": {},
     "output_type": "display_data"
    }
   ],
   "source": [
    "df_curso[\"Nota\"].hist(grid = False, bins=20)"
   ]
  },
  {
   "cell_type": "code",
   "execution_count": 140,
   "metadata": {},
   "outputs": [
    {
     "data": {
      "text/plain": [
       "3.2666666666666662"
      ]
     },
     "execution_count": 140,
     "metadata": {},
     "output_type": "execute_result"
    }
   ],
   "source": [
    "# Cálculo de la Media\n",
    "df_curso[\"Nota\"].mean()"
   ]
  },
  {
   "cell_type": "code",
   "execution_count": 141,
   "metadata": {},
   "outputs": [
    {
     "data": {
      "text/plain": [
       "3.55"
      ]
     },
     "execution_count": 141,
     "metadata": {},
     "output_type": "execute_result"
    }
   ],
   "source": [
    "# Cálculo de la Mediana\n",
    "df_curso[\"Nota\"].median()"
   ]
  },
  {
   "cell_type": "code",
   "execution_count": 142,
   "metadata": {},
   "outputs": [
    {
     "data": {
      "text/plain": [
       "0    4.0\n",
       "dtype: float64"
      ]
     },
     "execution_count": 142,
     "metadata": {},
     "output_type": "execute_result"
    }
   ],
   "source": [
    "# Cálculo de la Mediana\n",
    "df_curso[\"Nota\"].mode()"
   ]
  },
  {
   "cell_type": "markdown",
   "metadata": {},
   "source": [
    "## Cuantiles, Cuartiles\n",
    "\n",
    "* Los cuantiles suelen usarse por grupos que dividen la distribución en partes iguales; entendidas estas como intervalos que comprenden la misma proporción de valores. Los más usados son los cuartiles, cuando dividen la distribución en cuatro partes;\n",
    "\n",
    "* Los cuartiles son los tres valores que dividen al conjunto de datos ordenados en cuatro partes porcentualmente iguales. Hay tres cuartiles denotados usualmente Q1, Q2, Q3.\n",
    "\n",
    "<img align = \"left\" src=\"files/imagenes/cuartiles.jpg\" height=\"200\" width=\"400\">"
   ]
  },
  {
   "cell_type": "code",
   "execution_count": 145,
   "metadata": {},
   "outputs": [
    {
     "data": {
      "text/plain": [
       "4     0.0\n",
       "11    2.0\n",
       "5     2.7\n",
       "9     2.8\n",
       "7     3.3\n",
       "3     3.5\n",
       "1     3.6\n",
       "6     3.8\n",
       "0     4.0\n",
       "2     4.0\n",
       "8     4.7\n",
       "10    4.8\n",
       "Name: Nota, dtype: float64"
      ]
     },
     "execution_count": 145,
     "metadata": {},
     "output_type": "execute_result"
    }
   ],
   "source": [
    "df_curso[\"Nota\"].sort_values()"
   ]
  },
  {
   "cell_type": "code",
   "execution_count": 147,
   "metadata": {},
   "outputs": [
    {
     "name": "stdout",
     "output_type": "stream",
     "text": [
      "Cuartil 1 Q1\n",
      ": 2.7749999999999995 \n",
      "\n",
      "Cuartil 2 Q2\n",
      ": 3.55 \n",
      "\n",
      "Cuartil 3 Q3\n",
      ": 4.0\n"
     ]
    }
   ],
   "source": [
    "q1 = df_curso[\"Nota\"].quantile(.25)\n",
    "q2 = df_curso[\"Nota\"].quantile(.5)\n",
    "q3 = df_curso[\"Nota\"].quantile(.75)\n",
    "print (\"Cuartil 1 Q1\\n:\", q1, \"\\n\\nCuartil 2 Q2\\n:\", q2, \"\\n\\nCuartil 3 Q3\\n:\", q3)"
   ]
  },
  {
   "cell_type": "markdown",
   "metadata": {},
   "source": [
    "## Características de disperción"
   ]
  },
  {
   "cell_type": "markdown",
   "metadata": {},
   "source": [
    "### Rango\n",
    "Valor máximo menos el valor mínimo"
   ]
  },
  {
   "cell_type": "code",
   "execution_count": 148,
   "metadata": {},
   "outputs": [
    {
     "data": {
      "text/plain": [
       "4     0.0\n",
       "11    2.0\n",
       "5     2.7\n",
       "9     2.8\n",
       "7     3.3\n",
       "3     3.5\n",
       "1     3.6\n",
       "6     3.8\n",
       "0     4.0\n",
       "2     4.0\n",
       "8     4.7\n",
       "10    4.8\n",
       "Name: Nota, dtype: float64"
      ]
     },
     "execution_count": 148,
     "metadata": {},
     "output_type": "execute_result"
    }
   ],
   "source": [
    "df_curso[\"Nota\"].sort_values()"
   ]
  },
  {
   "cell_type": "code",
   "execution_count": 150,
   "metadata": {},
   "outputs": [
    {
     "data": {
      "text/plain": [
       "4.7999999999999998"
      ]
     },
     "execution_count": 150,
     "metadata": {},
     "output_type": "execute_result"
    }
   ],
   "source": [
    "rango_promedio = df_curso[\"Nota\"].max() - df_curso[\"Nota\"].min()\n",
    "rango_promedio"
   ]
  },
  {
   "cell_type": "markdown",
   "metadata": {},
   "source": [
    "### Recorrido intercuartílico\n",
    "Valor de Q3 menos Q1"
   ]
  },
  {
   "cell_type": "code",
   "execution_count": 152,
   "metadata": {},
   "outputs": [
    {
     "data": {
      "text/plain": [
       "1.2250000000000005"
      ]
     },
     "execution_count": 152,
     "metadata": {},
     "output_type": "execute_result"
    }
   ],
   "source": [
    "rec_intercuar_promedio = df_curso[\"Nota\"].quantile(.75) - df_curso[\"Nota\"].quantile(.25)\n",
    "rec_intercuar_promedio"
   ]
  },
  {
   "cell_type": "markdown",
   "metadata": {},
   "source": [
    "### Varianza y Desviación Estándar\n",
    "* La  varianza mide la dispersión dentro de un conjunto de datos, calculando la media de los cuadrados de las distancias de todos los datos. Si el valor de la varianza es pequeño, significa que los valores del conjunto están bastante agrupados.\n",
    "\n",
    "* La desviación estándar $\\sigma$  mide el promedio de las desviaciones de los datos respecto a la media en las mismas unidades de los datos. Es la raiz Cuadrada de la Varianza"
   ]
  },
  {
   "cell_type": "code",
   "execution_count": 154,
   "metadata": {},
   "outputs": [
    {
     "data": {
      "text/plain": [
       "57.901515151515149"
      ]
     },
     "execution_count": 154,
     "metadata": {},
     "output_type": "execute_result"
    }
   ],
   "source": [
    "df_curso[\"Edad\"].var() #Varianza"
   ]
  },
  {
   "cell_type": "code",
   "execution_count": 157,
   "metadata": {},
   "outputs": [
    {
     "data": {
      "text/plain": [
       "7.6093045116827298"
      ]
     },
     "execution_count": 157,
     "metadata": {},
     "output_type": "execute_result"
    }
   ],
   "source": [
    "df_curso[\"Edad\"].std() # Desviacion Estándar"
   ]
  },
  {
   "cell_type": "markdown",
   "metadata": {},
   "source": [
    "### Gráfico de cajas y bigotes\n",
    "Un diagrama de cajas y bigotes es una manera conveniente de mostrar visualmente grupos de datos numéricos a través de sus cuartiles.\n",
    "\n",
    "Las líneas que se extienden paralelas a las cajas se conocen como «bigotes», y se usan para indicar variabilidad fuera de los cuartiles superior e inferior.\n",
    "\n",
    "\n",
    "<img align = \"left\" src=\"files/imagenes/boxplot.svg\" height=\"400\" width=\"400\">"
   ]
  },
  {
   "cell_type": "code",
   "execution_count": 161,
   "metadata": {},
   "outputs": [
    {
     "data": {
      "text/plain": [
       "<matplotlib.axes._subplots.AxesSubplot at 0x10df9b1d0>"
      ]
     },
     "execution_count": 161,
     "metadata": {},
     "output_type": "execute_result"
    },
    {
     "data": {
      "image/png": "[encoded data removed]",
      "text/plain": [
       "<Figure size 432x288 with 1 Axes>"
      ]
     },
     "metadata": {},
     "output_type": "display_data"
    }
   ],
   "source": [
    "df_curso[\"Nota\"].plot.box()"
   ]
  },
  {
   "cell_type": "code",
   "execution_count": 162,
   "metadata": {},
   "outputs": [
    {
     "data": {
      "text/html": [
       "<div>\n",
       "<style>\n",
       "    .dataframe thead tr:only-child th {\n",
       "        text-align: right;\n",
       "    }\n",
       "\n",
       "    .dataframe thead th {\n",
       "        text-align: left;\n",
       "    }\n",
       "\n",
       "    .dataframe tbody tr th {\n",
       "        vertical-align: top;\n",
       "    }\n",
       "</style>\n",
       "<table border=\"1\" class=\"dataframe\">\n",
       "  <thead>\n",
       "    <tr style=\"text-align: right;\">\n",
       "      <th></th>\n",
       "      <th>Nota</th>\n",
       "      <th>Edad</th>\n",
       "      <th>Creditos cursados</th>\n",
       "    </tr>\n",
       "  </thead>\n",
       "  <tbody>\n",
       "    <tr>\n",
       "      <th>count</th>\n",
       "      <td>12.000000</td>\n",
       "      <td>12.000000</td>\n",
       "      <td>12.0</td>\n",
       "    </tr>\n",
       "    <tr>\n",
       "      <th>mean</th>\n",
       "      <td>3.266667</td>\n",
       "      <td>32.083333</td>\n",
       "      <td>5.0</td>\n",
       "    </tr>\n",
       "    <tr>\n",
       "      <th>std</th>\n",
       "      <td>1.305466</td>\n",
       "      <td>7.609305</td>\n",
       "      <td>2.0</td>\n",
       "    </tr>\n",
       "    <tr>\n",
       "      <th>min</th>\n",
       "      <td>0.000000</td>\n",
       "      <td>22.000000</td>\n",
       "      <td>2.0</td>\n",
       "    </tr>\n",
       "    <tr>\n",
       "      <th>25%</th>\n",
       "      <td>2.775000</td>\n",
       "      <td>25.250000</td>\n",
       "      <td>4.0</td>\n",
       "    </tr>\n",
       "    <tr>\n",
       "      <th>50%</th>\n",
       "      <td>3.550000</td>\n",
       "      <td>34.500000</td>\n",
       "      <td>5.0</td>\n",
       "    </tr>\n",
       "    <tr>\n",
       "      <th>75%</th>\n",
       "      <td>4.000000</td>\n",
       "      <td>36.000000</td>\n",
       "      <td>6.0</td>\n",
       "    </tr>\n",
       "    <tr>\n",
       "      <th>max</th>\n",
       "      <td>4.800000</td>\n",
       "      <td>45.000000</td>\n",
       "      <td>8.0</td>\n",
       "    </tr>\n",
       "  </tbody>\n",
       "</table>\n",
       "</div>"
      ],
      "text/plain": [
       "            Nota       Edad  Creditos cursados\n",
       "count  12.000000  12.000000               12.0\n",
       "mean    3.266667  32.083333                5.0\n",
       "std     1.305466   7.609305                2.0\n",
       "min     0.000000  22.000000                2.0\n",
       "25%     2.775000  25.250000                4.0\n",
       "50%     3.550000  34.500000                5.0\n",
       "75%     4.000000  36.000000                6.0\n",
       "max     4.800000  45.000000                8.0"
      ]
     },
     "execution_count": 162,
     "metadata": {},
     "output_type": "execute_result"
    }
   ],
   "source": [
    "# La funcion describe() muestra el conteo, media, desviación estándar, valor mínimo, Cuartiles, valor máximo\n",
    "df_curso.describe()"
   ]
  },
  {
   "cell_type": "markdown",
   "metadata": {},
   "source": [
    "## Gráficas multivariables\n",
    "### Matriz de Correlación\n",
    "La Correlación es una técnica estadística usada para determinar la relación entre dos o más variables. \n",
    "\n",
    "El Coeficiente de Correlación es un valor cuantitativo de la relación entre dos o\n",
    "más variables.\n",
    "\n",
    "La coeficiente de correlación puede variar desde -1.00 hasta 1.00.\n",
    "\n",
    "La correlación de proporcionalidad directa o positiva se establece con los valores\n",
    "+1.00 y de proporcionalidad inversa o negativa, con -1.00. No existe relación entre\n",
    "las variables cuando el coeficiente es de 0.00. "
   ]
  },
  {
   "cell_type": "code",
   "execution_count": 165,
   "metadata": {},
   "outputs": [
    {
     "data": {
      "text/html": [
       "<div>\n",
       "<style>\n",
       "    .dataframe thead tr:only-child th {\n",
       "        text-align: right;\n",
       "    }\n",
       "\n",
       "    .dataframe thead th {\n",
       "        text-align: left;\n",
       "    }\n",
       "\n",
       "    .dataframe tbody tr th {\n",
       "        vertical-align: top;\n",
       "    }\n",
       "</style>\n",
       "<table border=\"1\" class=\"dataframe\">\n",
       "  <thead>\n",
       "    <tr style=\"text-align: right;\">\n",
       "      <th></th>\n",
       "      <th>Nota</th>\n",
       "      <th>Edad</th>\n",
       "      <th>Creditos cursados</th>\n",
       "    </tr>\n",
       "  </thead>\n",
       "  <tbody>\n",
       "    <tr>\n",
       "      <th>Nota</th>\n",
       "      <td>1.000000</td>\n",
       "      <td>-0.042707</td>\n",
       "      <td>0.494424</td>\n",
       "    </tr>\n",
       "    <tr>\n",
       "      <th>Edad</th>\n",
       "      <td>-0.042707</td>\n",
       "      <td>1.000000</td>\n",
       "      <td>0.113497</td>\n",
       "    </tr>\n",
       "    <tr>\n",
       "      <th>Creditos cursados</th>\n",
       "      <td>0.494424</td>\n",
       "      <td>0.113497</td>\n",
       "      <td>1.000000</td>\n",
       "    </tr>\n",
       "  </tbody>\n",
       "</table>\n",
       "</div>"
      ],
      "text/plain": [
       "                       Nota      Edad  Creditos cursados\n",
       "Nota               1.000000 -0.042707           0.494424\n",
       "Edad              -0.042707  1.000000           0.113497\n",
       "Creditos cursados  0.494424  0.113497           1.000000"
      ]
     },
     "execution_count": 165,
     "metadata": {},
     "output_type": "execute_result"
    }
   ],
   "source": [
    "correlacion = df_curso.corr()\n",
    "correlacion"
   ]
  },
  {
   "cell_type": "code",
   "execution_count": 166,
   "metadata": {},
   "outputs": [
    {
     "data": {
      "image/png": "[encoded data removed]",
      "text/plain": [
       "<Figure size 432x288 with 2 Axes>"
      ]
     },
     "metadata": {},
     "output_type": "display_data"
    }
   ],
   "source": [
    "import matplotlib.pyplot as plt\n",
    "\n",
    "fig = plt.figure()\n",
    "ax = fig.add_subplot(111)\n",
    "cax = ax.matshow(correlacion, vmin=-1, vmax=1, cmap=plt.cm.seismic)\n",
    "fig.colorbar(cax)\n",
    "ticks = np.arange(0,3,1)\n",
    "ax.set_xticks(ticks)\n",
    "ax.set_yticks(ticks)\n",
    "ax.set_xticklabels(correlacion.index)\n",
    "ax.set_yticklabels(correlacion.index)\n",
    "plt.show()"
   ]
  },
  {
   "cell_type": "markdown",
   "metadata": {},
   "source": [
    "### Gráfico de Dispersión\n",
    "Un diagrama de dispersión o gráfica de dispersión o gráfico de dispersión es un tipo de diagrama matemático que utiliza las coordenadas cartesianas para mostrar los valores de dos variables para un conjunto de datos"
   ]
  },
  {
   "cell_type": "code",
   "execution_count": 167,
   "metadata": {},
   "outputs": [
    {
     "data": {
      "image/png": "[encoded data removed]",
      "text/plain": [
       "<Figure size 432x288 with 9 Axes>"
      ]
     },
     "metadata": {},
     "output_type": "display_data"
    }
   ],
   "source": [
    "graf_dispersion = pd.plotting.scatter_matrix(df_curso)"
   ]
  },
  {
   "cell_type": "markdown",
   "metadata": {},
   "source": [
    "## Distribuciones\n",
    "\n",
    "Las variables aleatorias crean distribuciones de acuerdo a la probabilidad de ocurrencia de todos los valores que toma.\n",
    "Cada distribución tiene:\n",
    "- Función de probabilidad: Asigna probabilidad a cada valor de la variable f(x) \n",
    "- Parámetros: Define la ubicación y el tamaño de una distribución"
   ]
  },
  {
   "cell_type": "markdown",
   "metadata": {},
   "source": [
    "### Distribución Normal\n",
    "La distribución normal o Gaussiana es la distribución continua que se utiliza más comúnmente en estadística. Un gran número de fenómenos se pueden modelar con esta distribución, tiene forma de Campana\n"
   ]
  },
  {
   "cell_type": "markdown",
   "metadata": {},
   "source": [
    "La distribución normal o Gaussiana es la distribución continua que se utiliza más comúnmente en estadística. Un gran número de fenómenos se pueden modelar con esta distribución, tiene forma de Campana.\n",
    "\n",
    "<img align = \"left\" src=\"files/imagenes/distro_normal.jpg\" height=\"400\" width=\"400\">\n"
   ]
  },
  {
   "cell_type": "markdown",
   "metadata": {},
   "source": [
    "A 1 desviación estándar de la media está el 68.26% de los datos"
   ]
  },
  {
   "cell_type": "code",
   "execution_count": null,
   "metadata": {},
   "outputs": [],
   "source": []
  }
 ],
 "metadata": {
  "kernelspec": {
   "display_name": "Python 3",
   "language": "python",
   "name": "python3"
  },
  "language_info": {
   "codemirror_mode": {
    "name": "ipython",
    "version": 3
   },
   "file_extension": ".py",
   "mimetype": "text/x-python",
   "name": "python",
   "nbconvert_exporter": "python",
   "pygments_lexer": "ipython3",
   "version": "3.6.2"
  }
 },
 "nbformat": 4,
 "nbformat_minor": 2
}
