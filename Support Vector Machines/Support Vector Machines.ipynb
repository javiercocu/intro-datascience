{
 "cells": [
  {
   "cell_type": "markdown",
   "metadata": {},
   "source": [
    "# SVM Support Vector Machines\n",
    "\n",
    "Video de introduccion\n",
    "\n",
    "https://youtu.be/Y6RRHw9uN9o"
   ]
  },
  {
   "cell_type": "markdown",
   "metadata": {},
   "source": [
    "Las máquinas vectoriales de apoyo en ingles “Support Vector Machines” (SVMs) son un conjunto de métodos de aprendizaje supervisados utilizados para la clasificación, regresión y detección de valores atípicos.\n",
    "\n",
    "Las ventajas del Support Vector Machines son:\n",
    "\n",
    "* Eficaz en espacios de grandes dimensiones.\n",
    "* Todavía eficaz en casos donde el número de dimensiones es mayor que el número de muestras.\n",
    "* Utiliza un subconjunto de puntos de entrenamiento en la función de decisión (llamada vectores de soporte), por lo que también es eficiente en memoria.\n",
    "* Versátil: se pueden especificar diferentes funciones del núcleo para la función de decisión. Se proporcionan kernels comunes, pero también es posible especificar kernels personalizados.\n",
    "\n",
    "\n",
    "Las desventajas de las máquinas vectoriales de apoyo incluyen:\n",
    "\n",
    "* Si el número de características es mucho mayor que el número de muestras, evite el exceso de ajuste al elegir las funciones del Kernel y el término de regularización es crucial.\n",
    "* Los SVMs no proporcionan directamente estimaciones de probabilidad, éstas se calculan utilizando una validación cruzada quíntuple (véase Partituras y probabilidades, más abajo)."
   ]
  },
  {
   "cell_type": "markdown",
   "metadata": {},
   "source": [
    "* Vectores de soporte\n",
    "Son los puntos de la data, que estan mas cercanos al hyperplano. Estos definen la linea de separación óptima por medio del cálculo del margen. These points are more relevant to the construction of the classifier.\n",
    "\n",
    "\n",
    "* Hiperplano\n",
    "Un hiperplano es un plano de decision que separa un data set para tener diferentes clases.\n",
    "\n",
    "\n",
    "* Margen\n",
    "El margen es la separacion entre las 2 lineas de las clases mas cercanas. Este es calculado por la distancia perpendicular desde la linea hasta los puntos mas cercanos.\n",
    "\n",
    "<img src=\"http://res.cloudinary.com/dyd911kmh/image/upload/f_auto,q_auto:best/v1526288453/index3_souoaz.png\">"
   ]
  },
  {
   "cell_type": "markdown",
   "metadata": {},
   "source": [
    "## Objetivo de los Suppor Vector Machines\n",
    "\n",
    "* Generar hiperplanos que separan de la mejor manera las clases\n",
    "* Seleccionar el hiperplano con la mejor segregación\n",
    "<img src=\"http://res.cloudinary.com/dyd911kmh/image/upload/f_auto,q_auto:best/v1526288454/index2_ub1uzd.png\" >"
   ]
  },
  {
   "cell_type": "markdown",
   "metadata": {},
   "source": [
    "## Data no separable de manera lineal\n",
    "\n",
    "Algunos problemas no pueden ser resueltos usando hiperplanos lineales, en esta situación se usan funciones kernel para transformar los datos de entrada en un espacio de más dimensiones.\n",
    "\n",
    "Los datos que se dibujan en estan en el eje X y Z, donde el el eje Z es la suma de X y Y al cuadrado, lo que permite usar un hiperplano lineal para su separación.\n",
    "\n",
    "<img src=\"http://res.cloudinary.com/dyd911kmh/image/upload/f_auto,q_auto:best/v1526288453/index_bnr4rx.png\">"
   ]
  },
  {
   "cell_type": "markdown",
   "metadata": {},
   "source": [
    "## SVM Kernels\n",
    "Los algoritmos SVM en la práctica son implementados usando un kernel. Un kernel transforma un espacio de dato de entrada en uno de la forma requerida. El kernel toma un espacio de entrada de bajas dimensiones en uno de mas dimensiones. En pocas palabras convierte un problema no separable, en uno separable agregando mas dimensiones.\n",
    "\n",
    "Es más util en un problema de separación no lineal.\n",
    "\n",
    "* Kernel Lineal. \n",
    "\n",
    "* Kernel polinolial. \n",
    "K(x,xi) = 1 + sum(x * xi)^d\n",
    "\n",
    "Donde d es el grado del polnomio. d=1 es similar a la transormación lineal, el grado necesita ser especificado manualmente al algoritmo.\n",
    "\n",
    "* Kernel RBF (Radial Basis Function): \n",
    "\n",
    "Radial Basis Function Kernel The Radial basis function kernel is a popular kernel function commonly used in support vector machine classification. RBF can map an input space in infinite dimensional space.\n",
    "K(x,xi) = exp(-gamma * sum((x – xi^2))\n",
    "Here gamma is a parameter, which ranges from 0 to 1. A higher value of gamma will perfectly fit the training dataset, which causes over-fitting. Gamma=0.1 is considered to be a good default value. The value of gamma needs to be manually specified in the learning algorithm."
   ]
  },
  {
   "cell_type": "markdown",
   "metadata": {},
   "source": [
    "## Ejemplo de Support Vector Machines"
   ]
  },
  {
   "cell_type": "code",
   "execution_count": null,
   "metadata": {},
   "outputs": [],
   "source": [
    "#Importar librerias\n",
    "from sklearn import datasets\n",
    "\n",
    "#Cargar Dataset\n",
    "cancer = datasets.load_breast_cancer()"
   ]
  },
  {
   "cell_type": "code",
   "execution_count": null,
   "metadata": {},
   "outputs": [],
   "source": [
    "# Imprimir Caracteristicas\n",
    "print(\"Características: \", cancer.feature_names)\n",
    "\n",
    "# Imprimir la etiqueta del tipo de tumor\n",
    "print(\"Etiquetas: \", cancer.target_names)"
   ]
  },
  {
   "cell_type": "markdown",
   "metadata": {},
   "source": [
    "# Ejercicio:\n",
    "\n",
    "Realizar análisis estadístico descriptivo al dataset"
   ]
  },
  {
   "cell_type": "code",
   "execution_count": null,
   "metadata": {},
   "outputs": [],
   "source": [
    "#Celdas para realizar ejercicio"
   ]
  },
  {
   "cell_type": "code",
   "execution_count": null,
   "metadata": {},
   "outputs": [],
   "source": []
  },
  {
   "cell_type": "code",
   "execution_count": null,
   "metadata": {},
   "outputs": [],
   "source": []
  },
  {
   "cell_type": "markdown",
   "metadata": {},
   "source": [
    "# Ejercicio:\n",
    "Dividir data de entranamiento y test (70% entrenamiento y 30% test)"
   ]
  },
  {
   "cell_type": "code",
   "execution_count": null,
   "metadata": {},
   "outputs": [],
   "source": [
    "X_train, X_test, y_train, y_test = #Terminar linea"
   ]
  },
  {
   "cell_type": "markdown",
   "metadata": {},
   "source": [
    "## Generar modelo SVM"
   ]
  },
  {
   "cell_type": "code",
   "execution_count": null,
   "metadata": {},
   "outputs": [],
   "source": [
    "#Importar modelo SVM\n",
    "from sklearn import svm\n",
    "\n",
    "#Crear clasificador SVM\n",
    "clf = svm.SVC(kernel='linear') # Kernel Lineal\n",
    "\n",
    "#Entrenar el modelo usando los set de entrenamiento\n",
    "clf.fit(X_train, y_train)"
   ]
  },
  {
   "cell_type": "code",
   "execution_count": null,
   "metadata": {},
   "outputs": [],
   "source": [
    "# Predecir las etiquetas de test usando el set de test\n",
    "y_pred = clf.predict(X_test)"
   ]
  },
  {
   "cell_type": "markdown",
   "metadata": {},
   "source": [
    "## Ejercicio - Evaluar el modelo\n",
    "Crear matriz de confusión, medir precisión y exhaustividad"
   ]
  },
  {
   "cell_type": "code",
   "execution_count": null,
   "metadata": {},
   "outputs": [],
   "source": []
  },
  {
   "cell_type": "code",
   "execution_count": null,
   "metadata": {},
   "outputs": [],
   "source": []
  }
 ],
 "metadata": {
  "kernelspec": {
   "display_name": "Python 3",
   "language": "python",
   "name": "python3"
  },
  "language_info": {
   "codemirror_mode": {
    "name": "ipython",
    "version": 3
   },
   "file_extension": ".py",
   "mimetype": "text/x-python",
   "name": "python",
   "nbconvert_exporter": "python",
   "pygments_lexer": "ipython3",
   "version": "3.6.2"
  }
 },
 "nbformat": 4,
 "nbformat_minor": 2
}
